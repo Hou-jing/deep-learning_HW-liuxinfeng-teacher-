{
  "nbformat": 4,
  "nbformat_minor": 0,
  "metadata": {
    "colab": {
      "name": "手写数字识别2.ipynb",
      "provenance": [],
      "authorship_tag": "ABX9TyPIOOMU0r/4EMt0qHmwuAbg",
      "include_colab_link": true
    },
    "kernelspec": {
      "name": "python3",
      "display_name": "Python 3"
    },
    "language_info": {
      "name": "python"
    },
    "accelerator": "GPU",
    "widgets": {
      "application/vnd.jupyter.widget-state+json": {
        "4f77088e7a694257ab9d46a9ff46d746": {
          "model_module": "@jupyter-widgets/controls",
          "model_name": "HBoxModel",
          "model_module_version": "1.5.0",
          "state": {
            "_dom_classes": [],
            "_model_module": "@jupyter-widgets/controls",
            "_model_module_version": "1.5.0",
            "_model_name": "HBoxModel",
            "_view_count": null,
            "_view_module": "@jupyter-widgets/controls",
            "_view_module_version": "1.5.0",
            "_view_name": "HBoxView",
            "box_style": "",
            "children": [
              "IPY_MODEL_089e6d4456334f36ae1d0c6a45321d71",
              "IPY_MODEL_c5041880db694b7bb593db88c1aa9211",
              "IPY_MODEL_ce5f841970f24136ba133f6e2fb619ac"
            ],
            "layout": "IPY_MODEL_713c0056e81d4e448644b6ed11037ddc"
          }
        },
        "089e6d4456334f36ae1d0c6a45321d71": {
          "model_module": "@jupyter-widgets/controls",
          "model_name": "HTMLModel",
          "model_module_version": "1.5.0",
          "state": {
            "_dom_classes": [],
            "_model_module": "@jupyter-widgets/controls",
            "_model_module_version": "1.5.0",
            "_model_name": "HTMLModel",
            "_view_count": null,
            "_view_module": "@jupyter-widgets/controls",
            "_view_module_version": "1.5.0",
            "_view_name": "HTMLView",
            "description": "",
            "description_tooltip": null,
            "layout": "IPY_MODEL_d5446d12040d477eb55792f54bd589ee",
            "placeholder": "​",
            "style": "IPY_MODEL_cd307df95fa6434d8d5dd70dbd4b810b",
            "value": ""
          }
        },
        "c5041880db694b7bb593db88c1aa9211": {
          "model_module": "@jupyter-widgets/controls",
          "model_name": "FloatProgressModel",
          "model_module_version": "1.5.0",
          "state": {
            "_dom_classes": [],
            "_model_module": "@jupyter-widgets/controls",
            "_model_module_version": "1.5.0",
            "_model_name": "FloatProgressModel",
            "_view_count": null,
            "_view_module": "@jupyter-widgets/controls",
            "_view_module_version": "1.5.0",
            "_view_name": "ProgressView",
            "bar_style": "success",
            "description": "",
            "description_tooltip": null,
            "layout": "IPY_MODEL_c64ba07c8fce414999a114e1a71ccbb8",
            "max": 9912422,
            "min": 0,
            "orientation": "horizontal",
            "style": "IPY_MODEL_27ccb39242194b2cba940340392bcce6",
            "value": 9912422
          }
        },
        "ce5f841970f24136ba133f6e2fb619ac": {
          "model_module": "@jupyter-widgets/controls",
          "model_name": "HTMLModel",
          "model_module_version": "1.5.0",
          "state": {
            "_dom_classes": [],
            "_model_module": "@jupyter-widgets/controls",
            "_model_module_version": "1.5.0",
            "_model_name": "HTMLModel",
            "_view_count": null,
            "_view_module": "@jupyter-widgets/controls",
            "_view_module_version": "1.5.0",
            "_view_name": "HTMLView",
            "description": "",
            "description_tooltip": null,
            "layout": "IPY_MODEL_44633f68abc04f39abe0512b6b71bb0e",
            "placeholder": "​",
            "style": "IPY_MODEL_8697c838f0b64ea2bf7e14d78ded8822",
            "value": " 9913344/? [00:00&lt;00:00, 77483752.33it/s]"
          }
        },
        "713c0056e81d4e448644b6ed11037ddc": {
          "model_module": "@jupyter-widgets/base",
          "model_name": "LayoutModel",
          "model_module_version": "1.2.0",
          "state": {
            "_model_module": "@jupyter-widgets/base",
            "_model_module_version": "1.2.0",
            "_model_name": "LayoutModel",
            "_view_count": null,
            "_view_module": "@jupyter-widgets/base",
            "_view_module_version": "1.2.0",
            "_view_name": "LayoutView",
            "align_content": null,
            "align_items": null,
            "align_self": null,
            "border": null,
            "bottom": null,
            "display": null,
            "flex": null,
            "flex_flow": null,
            "grid_area": null,
            "grid_auto_columns": null,
            "grid_auto_flow": null,
            "grid_auto_rows": null,
            "grid_column": null,
            "grid_gap": null,
            "grid_row": null,
            "grid_template_areas": null,
            "grid_template_columns": null,
            "grid_template_rows": null,
            "height": null,
            "justify_content": null,
            "justify_items": null,
            "left": null,
            "margin": null,
            "max_height": null,
            "max_width": null,
            "min_height": null,
            "min_width": null,
            "object_fit": null,
            "object_position": null,
            "order": null,
            "overflow": null,
            "overflow_x": null,
            "overflow_y": null,
            "padding": null,
            "right": null,
            "top": null,
            "visibility": null,
            "width": null
          }
        },
        "d5446d12040d477eb55792f54bd589ee": {
          "model_module": "@jupyter-widgets/base",
          "model_name": "LayoutModel",
          "model_module_version": "1.2.0",
          "state": {
            "_model_module": "@jupyter-widgets/base",
            "_model_module_version": "1.2.0",
            "_model_name": "LayoutModel",
            "_view_count": null,
            "_view_module": "@jupyter-widgets/base",
            "_view_module_version": "1.2.0",
            "_view_name": "LayoutView",
            "align_content": null,
            "align_items": null,
            "align_self": null,
            "border": null,
            "bottom": null,
            "display": null,
            "flex": null,
            "flex_flow": null,
            "grid_area": null,
            "grid_auto_columns": null,
            "grid_auto_flow": null,
            "grid_auto_rows": null,
            "grid_column": null,
            "grid_gap": null,
            "grid_row": null,
            "grid_template_areas": null,
            "grid_template_columns": null,
            "grid_template_rows": null,
            "height": null,
            "justify_content": null,
            "justify_items": null,
            "left": null,
            "margin": null,
            "max_height": null,
            "max_width": null,
            "min_height": null,
            "min_width": null,
            "object_fit": null,
            "object_position": null,
            "order": null,
            "overflow": null,
            "overflow_x": null,
            "overflow_y": null,
            "padding": null,
            "right": null,
            "top": null,
            "visibility": null,
            "width": null
          }
        },
        "cd307df95fa6434d8d5dd70dbd4b810b": {
          "model_module": "@jupyter-widgets/controls",
          "model_name": "DescriptionStyleModel",
          "model_module_version": "1.5.0",
          "state": {
            "_model_module": "@jupyter-widgets/controls",
            "_model_module_version": "1.5.0",
            "_model_name": "DescriptionStyleModel",
            "_view_count": null,
            "_view_module": "@jupyter-widgets/base",
            "_view_module_version": "1.2.0",
            "_view_name": "StyleView",
            "description_width": ""
          }
        },
        "c64ba07c8fce414999a114e1a71ccbb8": {
          "model_module": "@jupyter-widgets/base",
          "model_name": "LayoutModel",
          "model_module_version": "1.2.0",
          "state": {
            "_model_module": "@jupyter-widgets/base",
            "_model_module_version": "1.2.0",
            "_model_name": "LayoutModel",
            "_view_count": null,
            "_view_module": "@jupyter-widgets/base",
            "_view_module_version": "1.2.0",
            "_view_name": "LayoutView",
            "align_content": null,
            "align_items": null,
            "align_self": null,
            "border": null,
            "bottom": null,
            "display": null,
            "flex": null,
            "flex_flow": null,
            "grid_area": null,
            "grid_auto_columns": null,
            "grid_auto_flow": null,
            "grid_auto_rows": null,
            "grid_column": null,
            "grid_gap": null,
            "grid_row": null,
            "grid_template_areas": null,
            "grid_template_columns": null,
            "grid_template_rows": null,
            "height": null,
            "justify_content": null,
            "justify_items": null,
            "left": null,
            "margin": null,
            "max_height": null,
            "max_width": null,
            "min_height": null,
            "min_width": null,
            "object_fit": null,
            "object_position": null,
            "order": null,
            "overflow": null,
            "overflow_x": null,
            "overflow_y": null,
            "padding": null,
            "right": null,
            "top": null,
            "visibility": null,
            "width": null
          }
        },
        "27ccb39242194b2cba940340392bcce6": {
          "model_module": "@jupyter-widgets/controls",
          "model_name": "ProgressStyleModel",
          "model_module_version": "1.5.0",
          "state": {
            "_model_module": "@jupyter-widgets/controls",
            "_model_module_version": "1.5.0",
            "_model_name": "ProgressStyleModel",
            "_view_count": null,
            "_view_module": "@jupyter-widgets/base",
            "_view_module_version": "1.2.0",
            "_view_name": "StyleView",
            "bar_color": null,
            "description_width": ""
          }
        },
        "44633f68abc04f39abe0512b6b71bb0e": {
          "model_module": "@jupyter-widgets/base",
          "model_name": "LayoutModel",
          "model_module_version": "1.2.0",
          "state": {
            "_model_module": "@jupyter-widgets/base",
            "_model_module_version": "1.2.0",
            "_model_name": "LayoutModel",
            "_view_count": null,
            "_view_module": "@jupyter-widgets/base",
            "_view_module_version": "1.2.0",
            "_view_name": "LayoutView",
            "align_content": null,
            "align_items": null,
            "align_self": null,
            "border": null,
            "bottom": null,
            "display": null,
            "flex": null,
            "flex_flow": null,
            "grid_area": null,
            "grid_auto_columns": null,
            "grid_auto_flow": null,
            "grid_auto_rows": null,
            "grid_column": null,
            "grid_gap": null,
            "grid_row": null,
            "grid_template_areas": null,
            "grid_template_columns": null,
            "grid_template_rows": null,
            "height": null,
            "justify_content": null,
            "justify_items": null,
            "left": null,
            "margin": null,
            "max_height": null,
            "max_width": null,
            "min_height": null,
            "min_width": null,
            "object_fit": null,
            "object_position": null,
            "order": null,
            "overflow": null,
            "overflow_x": null,
            "overflow_y": null,
            "padding": null,
            "right": null,
            "top": null,
            "visibility": null,
            "width": null
          }
        },
        "8697c838f0b64ea2bf7e14d78ded8822": {
          "model_module": "@jupyter-widgets/controls",
          "model_name": "DescriptionStyleModel",
          "model_module_version": "1.5.0",
          "state": {
            "_model_module": "@jupyter-widgets/controls",
            "_model_module_version": "1.5.0",
            "_model_name": "DescriptionStyleModel",
            "_view_count": null,
            "_view_module": "@jupyter-widgets/base",
            "_view_module_version": "1.2.0",
            "_view_name": "StyleView",
            "description_width": ""
          }
        },
        "4e3e20bfb7e04d089b071a784526b989": {
          "model_module": "@jupyter-widgets/controls",
          "model_name": "HBoxModel",
          "model_module_version": "1.5.0",
          "state": {
            "_dom_classes": [],
            "_model_module": "@jupyter-widgets/controls",
            "_model_module_version": "1.5.0",
            "_model_name": "HBoxModel",
            "_view_count": null,
            "_view_module": "@jupyter-widgets/controls",
            "_view_module_version": "1.5.0",
            "_view_name": "HBoxView",
            "box_style": "",
            "children": [
              "IPY_MODEL_958423ef0c1e45cebf8da14921d76a48",
              "IPY_MODEL_911fc568a4ad438680321d3354e281e5",
              "IPY_MODEL_68b64ab375224cd2ad179077d61f3a01"
            ],
            "layout": "IPY_MODEL_7f3bfa018e0545e38baccbe338c1f85e"
          }
        },
        "958423ef0c1e45cebf8da14921d76a48": {
          "model_module": "@jupyter-widgets/controls",
          "model_name": "HTMLModel",
          "model_module_version": "1.5.0",
          "state": {
            "_dom_classes": [],
            "_model_module": "@jupyter-widgets/controls",
            "_model_module_version": "1.5.0",
            "_model_name": "HTMLModel",
            "_view_count": null,
            "_view_module": "@jupyter-widgets/controls",
            "_view_module_version": "1.5.0",
            "_view_name": "HTMLView",
            "description": "",
            "description_tooltip": null,
            "layout": "IPY_MODEL_586487ece2e94d058ebfc0499b653f59",
            "placeholder": "​",
            "style": "IPY_MODEL_cea9a0d7e344437ba6a7ce2020277866",
            "value": ""
          }
        },
        "911fc568a4ad438680321d3354e281e5": {
          "model_module": "@jupyter-widgets/controls",
          "model_name": "FloatProgressModel",
          "model_module_version": "1.5.0",
          "state": {
            "_dom_classes": [],
            "_model_module": "@jupyter-widgets/controls",
            "_model_module_version": "1.5.0",
            "_model_name": "FloatProgressModel",
            "_view_count": null,
            "_view_module": "@jupyter-widgets/controls",
            "_view_module_version": "1.5.0",
            "_view_name": "ProgressView",
            "bar_style": "success",
            "description": "",
            "description_tooltip": null,
            "layout": "IPY_MODEL_fe7fa427a8cf4cb98f78e21d9d0f0060",
            "max": 28881,
            "min": 0,
            "orientation": "horizontal",
            "style": "IPY_MODEL_2fca360a2f5c4659804bd211d13b4d00",
            "value": 28881
          }
        },
        "68b64ab375224cd2ad179077d61f3a01": {
          "model_module": "@jupyter-widgets/controls",
          "model_name": "HTMLModel",
          "model_module_version": "1.5.0",
          "state": {
            "_dom_classes": [],
            "_model_module": "@jupyter-widgets/controls",
            "_model_module_version": "1.5.0",
            "_model_name": "HTMLModel",
            "_view_count": null,
            "_view_module": "@jupyter-widgets/controls",
            "_view_module_version": "1.5.0",
            "_view_name": "HTMLView",
            "description": "",
            "description_tooltip": null,
            "layout": "IPY_MODEL_3005d525486e4be388774685e1c48698",
            "placeholder": "​",
            "style": "IPY_MODEL_a40429bfc05446b3b5ac6fd60680e88b",
            "value": " 29696/? [00:00&lt;00:00, 938012.97it/s]"
          }
        },
        "7f3bfa018e0545e38baccbe338c1f85e": {
          "model_module": "@jupyter-widgets/base",
          "model_name": "LayoutModel",
          "model_module_version": "1.2.0",
          "state": {
            "_model_module": "@jupyter-widgets/base",
            "_model_module_version": "1.2.0",
            "_model_name": "LayoutModel",
            "_view_count": null,
            "_view_module": "@jupyter-widgets/base",
            "_view_module_version": "1.2.0",
            "_view_name": "LayoutView",
            "align_content": null,
            "align_items": null,
            "align_self": null,
            "border": null,
            "bottom": null,
            "display": null,
            "flex": null,
            "flex_flow": null,
            "grid_area": null,
            "grid_auto_columns": null,
            "grid_auto_flow": null,
            "grid_auto_rows": null,
            "grid_column": null,
            "grid_gap": null,
            "grid_row": null,
            "grid_template_areas": null,
            "grid_template_columns": null,
            "grid_template_rows": null,
            "height": null,
            "justify_content": null,
            "justify_items": null,
            "left": null,
            "margin": null,
            "max_height": null,
            "max_width": null,
            "min_height": null,
            "min_width": null,
            "object_fit": null,
            "object_position": null,
            "order": null,
            "overflow": null,
            "overflow_x": null,
            "overflow_y": null,
            "padding": null,
            "right": null,
            "top": null,
            "visibility": null,
            "width": null
          }
        },
        "586487ece2e94d058ebfc0499b653f59": {
          "model_module": "@jupyter-widgets/base",
          "model_name": "LayoutModel",
          "model_module_version": "1.2.0",
          "state": {
            "_model_module": "@jupyter-widgets/base",
            "_model_module_version": "1.2.0",
            "_model_name": "LayoutModel",
            "_view_count": null,
            "_view_module": "@jupyter-widgets/base",
            "_view_module_version": "1.2.0",
            "_view_name": "LayoutView",
            "align_content": null,
            "align_items": null,
            "align_self": null,
            "border": null,
            "bottom": null,
            "display": null,
            "flex": null,
            "flex_flow": null,
            "grid_area": null,
            "grid_auto_columns": null,
            "grid_auto_flow": null,
            "grid_auto_rows": null,
            "grid_column": null,
            "grid_gap": null,
            "grid_row": null,
            "grid_template_areas": null,
            "grid_template_columns": null,
            "grid_template_rows": null,
            "height": null,
            "justify_content": null,
            "justify_items": null,
            "left": null,
            "margin": null,
            "max_height": null,
            "max_width": null,
            "min_height": null,
            "min_width": null,
            "object_fit": null,
            "object_position": null,
            "order": null,
            "overflow": null,
            "overflow_x": null,
            "overflow_y": null,
            "padding": null,
            "right": null,
            "top": null,
            "visibility": null,
            "width": null
          }
        },
        "cea9a0d7e344437ba6a7ce2020277866": {
          "model_module": "@jupyter-widgets/controls",
          "model_name": "DescriptionStyleModel",
          "model_module_version": "1.5.0",
          "state": {
            "_model_module": "@jupyter-widgets/controls",
            "_model_module_version": "1.5.0",
            "_model_name": "DescriptionStyleModel",
            "_view_count": null,
            "_view_module": "@jupyter-widgets/base",
            "_view_module_version": "1.2.0",
            "_view_name": "StyleView",
            "description_width": ""
          }
        },
        "fe7fa427a8cf4cb98f78e21d9d0f0060": {
          "model_module": "@jupyter-widgets/base",
          "model_name": "LayoutModel",
          "model_module_version": "1.2.0",
          "state": {
            "_model_module": "@jupyter-widgets/base",
            "_model_module_version": "1.2.0",
            "_model_name": "LayoutModel",
            "_view_count": null,
            "_view_module": "@jupyter-widgets/base",
            "_view_module_version": "1.2.0",
            "_view_name": "LayoutView",
            "align_content": null,
            "align_items": null,
            "align_self": null,
            "border": null,
            "bottom": null,
            "display": null,
            "flex": null,
            "flex_flow": null,
            "grid_area": null,
            "grid_auto_columns": null,
            "grid_auto_flow": null,
            "grid_auto_rows": null,
            "grid_column": null,
            "grid_gap": null,
            "grid_row": null,
            "grid_template_areas": null,
            "grid_template_columns": null,
            "grid_template_rows": null,
            "height": null,
            "justify_content": null,
            "justify_items": null,
            "left": null,
            "margin": null,
            "max_height": null,
            "max_width": null,
            "min_height": null,
            "min_width": null,
            "object_fit": null,
            "object_position": null,
            "order": null,
            "overflow": null,
            "overflow_x": null,
            "overflow_y": null,
            "padding": null,
            "right": null,
            "top": null,
            "visibility": null,
            "width": null
          }
        },
        "2fca360a2f5c4659804bd211d13b4d00": {
          "model_module": "@jupyter-widgets/controls",
          "model_name": "ProgressStyleModel",
          "model_module_version": "1.5.0",
          "state": {
            "_model_module": "@jupyter-widgets/controls",
            "_model_module_version": "1.5.0",
            "_model_name": "ProgressStyleModel",
            "_view_count": null,
            "_view_module": "@jupyter-widgets/base",
            "_view_module_version": "1.2.0",
            "_view_name": "StyleView",
            "bar_color": null,
            "description_width": ""
          }
        },
        "3005d525486e4be388774685e1c48698": {
          "model_module": "@jupyter-widgets/base",
          "model_name": "LayoutModel",
          "model_module_version": "1.2.0",
          "state": {
            "_model_module": "@jupyter-widgets/base",
            "_model_module_version": "1.2.0",
            "_model_name": "LayoutModel",
            "_view_count": null,
            "_view_module": "@jupyter-widgets/base",
            "_view_module_version": "1.2.0",
            "_view_name": "LayoutView",
            "align_content": null,
            "align_items": null,
            "align_self": null,
            "border": null,
            "bottom": null,
            "display": null,
            "flex": null,
            "flex_flow": null,
            "grid_area": null,
            "grid_auto_columns": null,
            "grid_auto_flow": null,
            "grid_auto_rows": null,
            "grid_column": null,
            "grid_gap": null,
            "grid_row": null,
            "grid_template_areas": null,
            "grid_template_columns": null,
            "grid_template_rows": null,
            "height": null,
            "justify_content": null,
            "justify_items": null,
            "left": null,
            "margin": null,
            "max_height": null,
            "max_width": null,
            "min_height": null,
            "min_width": null,
            "object_fit": null,
            "object_position": null,
            "order": null,
            "overflow": null,
            "overflow_x": null,
            "overflow_y": null,
            "padding": null,
            "right": null,
            "top": null,
            "visibility": null,
            "width": null
          }
        },
        "a40429bfc05446b3b5ac6fd60680e88b": {
          "model_module": "@jupyter-widgets/controls",
          "model_name": "DescriptionStyleModel",
          "model_module_version": "1.5.0",
          "state": {
            "_model_module": "@jupyter-widgets/controls",
            "_model_module_version": "1.5.0",
            "_model_name": "DescriptionStyleModel",
            "_view_count": null,
            "_view_module": "@jupyter-widgets/base",
            "_view_module_version": "1.2.0",
            "_view_name": "StyleView",
            "description_width": ""
          }
        },
        "413f5cd60f5845199d2b67edf0c62a95": {
          "model_module": "@jupyter-widgets/controls",
          "model_name": "HBoxModel",
          "model_module_version": "1.5.0",
          "state": {
            "_dom_classes": [],
            "_model_module": "@jupyter-widgets/controls",
            "_model_module_version": "1.5.0",
            "_model_name": "HBoxModel",
            "_view_count": null,
            "_view_module": "@jupyter-widgets/controls",
            "_view_module_version": "1.5.0",
            "_view_name": "HBoxView",
            "box_style": "",
            "children": [
              "IPY_MODEL_a983f816a3e54165940116956aed000e",
              "IPY_MODEL_9357e5dee0fc48b58d04df26f5de91a2",
              "IPY_MODEL_04a4a37b47924e3fb8cde816320eebc4"
            ],
            "layout": "IPY_MODEL_7ad2c798a46e4730ac3719cb36c4a8b3"
          }
        },
        "a983f816a3e54165940116956aed000e": {
          "model_module": "@jupyter-widgets/controls",
          "model_name": "HTMLModel",
          "model_module_version": "1.5.0",
          "state": {
            "_dom_classes": [],
            "_model_module": "@jupyter-widgets/controls",
            "_model_module_version": "1.5.0",
            "_model_name": "HTMLModel",
            "_view_count": null,
            "_view_module": "@jupyter-widgets/controls",
            "_view_module_version": "1.5.0",
            "_view_name": "HTMLView",
            "description": "",
            "description_tooltip": null,
            "layout": "IPY_MODEL_2a47cf8074ee4a929db0dae72c8d4379",
            "placeholder": "​",
            "style": "IPY_MODEL_c6487f47f27d4c279c50d624872d4d09",
            "value": ""
          }
        },
        "9357e5dee0fc48b58d04df26f5de91a2": {
          "model_module": "@jupyter-widgets/controls",
          "model_name": "FloatProgressModel",
          "model_module_version": "1.5.0",
          "state": {
            "_dom_classes": [],
            "_model_module": "@jupyter-widgets/controls",
            "_model_module_version": "1.5.0",
            "_model_name": "FloatProgressModel",
            "_view_count": null,
            "_view_module": "@jupyter-widgets/controls",
            "_view_module_version": "1.5.0",
            "_view_name": "ProgressView",
            "bar_style": "success",
            "description": "",
            "description_tooltip": null,
            "layout": "IPY_MODEL_f08a91c811474d16862f734ab03aa97e",
            "max": 1648877,
            "min": 0,
            "orientation": "horizontal",
            "style": "IPY_MODEL_7604630cf989493693e5710462a071d1",
            "value": 1648877
          }
        },
        "04a4a37b47924e3fb8cde816320eebc4": {
          "model_module": "@jupyter-widgets/controls",
          "model_name": "HTMLModel",
          "model_module_version": "1.5.0",
          "state": {
            "_dom_classes": [],
            "_model_module": "@jupyter-widgets/controls",
            "_model_module_version": "1.5.0",
            "_model_name": "HTMLModel",
            "_view_count": null,
            "_view_module": "@jupyter-widgets/controls",
            "_view_module_version": "1.5.0",
            "_view_name": "HTMLView",
            "description": "",
            "description_tooltip": null,
            "layout": "IPY_MODEL_905e9e962b0b432fb608b1d0062e79ba",
            "placeholder": "​",
            "style": "IPY_MODEL_351a55886305496686011ca4c40f3a6c",
            "value": " 1649664/? [00:00&lt;00:00, 35673846.85it/s]"
          }
        },
        "7ad2c798a46e4730ac3719cb36c4a8b3": {
          "model_module": "@jupyter-widgets/base",
          "model_name": "LayoutModel",
          "model_module_version": "1.2.0",
          "state": {
            "_model_module": "@jupyter-widgets/base",
            "_model_module_version": "1.2.0",
            "_model_name": "LayoutModel",
            "_view_count": null,
            "_view_module": "@jupyter-widgets/base",
            "_view_module_version": "1.2.0",
            "_view_name": "LayoutView",
            "align_content": null,
            "align_items": null,
            "align_self": null,
            "border": null,
            "bottom": null,
            "display": null,
            "flex": null,
            "flex_flow": null,
            "grid_area": null,
            "grid_auto_columns": null,
            "grid_auto_flow": null,
            "grid_auto_rows": null,
            "grid_column": null,
            "grid_gap": null,
            "grid_row": null,
            "grid_template_areas": null,
            "grid_template_columns": null,
            "grid_template_rows": null,
            "height": null,
            "justify_content": null,
            "justify_items": null,
            "left": null,
            "margin": null,
            "max_height": null,
            "max_width": null,
            "min_height": null,
            "min_width": null,
            "object_fit": null,
            "object_position": null,
            "order": null,
            "overflow": null,
            "overflow_x": null,
            "overflow_y": null,
            "padding": null,
            "right": null,
            "top": null,
            "visibility": null,
            "width": null
          }
        },
        "2a47cf8074ee4a929db0dae72c8d4379": {
          "model_module": "@jupyter-widgets/base",
          "model_name": "LayoutModel",
          "model_module_version": "1.2.0",
          "state": {
            "_model_module": "@jupyter-widgets/base",
            "_model_module_version": "1.2.0",
            "_model_name": "LayoutModel",
            "_view_count": null,
            "_view_module": "@jupyter-widgets/base",
            "_view_module_version": "1.2.0",
            "_view_name": "LayoutView",
            "align_content": null,
            "align_items": null,
            "align_self": null,
            "border": null,
            "bottom": null,
            "display": null,
            "flex": null,
            "flex_flow": null,
            "grid_area": null,
            "grid_auto_columns": null,
            "grid_auto_flow": null,
            "grid_auto_rows": null,
            "grid_column": null,
            "grid_gap": null,
            "grid_row": null,
            "grid_template_areas": null,
            "grid_template_columns": null,
            "grid_template_rows": null,
            "height": null,
            "justify_content": null,
            "justify_items": null,
            "left": null,
            "margin": null,
            "max_height": null,
            "max_width": null,
            "min_height": null,
            "min_width": null,
            "object_fit": null,
            "object_position": null,
            "order": null,
            "overflow": null,
            "overflow_x": null,
            "overflow_y": null,
            "padding": null,
            "right": null,
            "top": null,
            "visibility": null,
            "width": null
          }
        },
        "c6487f47f27d4c279c50d624872d4d09": {
          "model_module": "@jupyter-widgets/controls",
          "model_name": "DescriptionStyleModel",
          "model_module_version": "1.5.0",
          "state": {
            "_model_module": "@jupyter-widgets/controls",
            "_model_module_version": "1.5.0",
            "_model_name": "DescriptionStyleModel",
            "_view_count": null,
            "_view_module": "@jupyter-widgets/base",
            "_view_module_version": "1.2.0",
            "_view_name": "StyleView",
            "description_width": ""
          }
        },
        "f08a91c811474d16862f734ab03aa97e": {
          "model_module": "@jupyter-widgets/base",
          "model_name": "LayoutModel",
          "model_module_version": "1.2.0",
          "state": {
            "_model_module": "@jupyter-widgets/base",
            "_model_module_version": "1.2.0",
            "_model_name": "LayoutModel",
            "_view_count": null,
            "_view_module": "@jupyter-widgets/base",
            "_view_module_version": "1.2.0",
            "_view_name": "LayoutView",
            "align_content": null,
            "align_items": null,
            "align_self": null,
            "border": null,
            "bottom": null,
            "display": null,
            "flex": null,
            "flex_flow": null,
            "grid_area": null,
            "grid_auto_columns": null,
            "grid_auto_flow": null,
            "grid_auto_rows": null,
            "grid_column": null,
            "grid_gap": null,
            "grid_row": null,
            "grid_template_areas": null,
            "grid_template_columns": null,
            "grid_template_rows": null,
            "height": null,
            "justify_content": null,
            "justify_items": null,
            "left": null,
            "margin": null,
            "max_height": null,
            "max_width": null,
            "min_height": null,
            "min_width": null,
            "object_fit": null,
            "object_position": null,
            "order": null,
            "overflow": null,
            "overflow_x": null,
            "overflow_y": null,
            "padding": null,
            "right": null,
            "top": null,
            "visibility": null,
            "width": null
          }
        },
        "7604630cf989493693e5710462a071d1": {
          "model_module": "@jupyter-widgets/controls",
          "model_name": "ProgressStyleModel",
          "model_module_version": "1.5.0",
          "state": {
            "_model_module": "@jupyter-widgets/controls",
            "_model_module_version": "1.5.0",
            "_model_name": "ProgressStyleModel",
            "_view_count": null,
            "_view_module": "@jupyter-widgets/base",
            "_view_module_version": "1.2.0",
            "_view_name": "StyleView",
            "bar_color": null,
            "description_width": ""
          }
        },
        "905e9e962b0b432fb608b1d0062e79ba": {
          "model_module": "@jupyter-widgets/base",
          "model_name": "LayoutModel",
          "model_module_version": "1.2.0",
          "state": {
            "_model_module": "@jupyter-widgets/base",
            "_model_module_version": "1.2.0",
            "_model_name": "LayoutModel",
            "_view_count": null,
            "_view_module": "@jupyter-widgets/base",
            "_view_module_version": "1.2.0",
            "_view_name": "LayoutView",
            "align_content": null,
            "align_items": null,
            "align_self": null,
            "border": null,
            "bottom": null,
            "display": null,
            "flex": null,
            "flex_flow": null,
            "grid_area": null,
            "grid_auto_columns": null,
            "grid_auto_flow": null,
            "grid_auto_rows": null,
            "grid_column": null,
            "grid_gap": null,
            "grid_row": null,
            "grid_template_areas": null,
            "grid_template_columns": null,
            "grid_template_rows": null,
            "height": null,
            "justify_content": null,
            "justify_items": null,
            "left": null,
            "margin": null,
            "max_height": null,
            "max_width": null,
            "min_height": null,
            "min_width": null,
            "object_fit": null,
            "object_position": null,
            "order": null,
            "overflow": null,
            "overflow_x": null,
            "overflow_y": null,
            "padding": null,
            "right": null,
            "top": null,
            "visibility": null,
            "width": null
          }
        },
        "351a55886305496686011ca4c40f3a6c": {
          "model_module": "@jupyter-widgets/controls",
          "model_name": "DescriptionStyleModel",
          "model_module_version": "1.5.0",
          "state": {
            "_model_module": "@jupyter-widgets/controls",
            "_model_module_version": "1.5.0",
            "_model_name": "DescriptionStyleModel",
            "_view_count": null,
            "_view_module": "@jupyter-widgets/base",
            "_view_module_version": "1.2.0",
            "_view_name": "StyleView",
            "description_width": ""
          }
        },
        "349c4ffa5702429aa2cdda1fe56e69cb": {
          "model_module": "@jupyter-widgets/controls",
          "model_name": "HBoxModel",
          "model_module_version": "1.5.0",
          "state": {
            "_dom_classes": [],
            "_model_module": "@jupyter-widgets/controls",
            "_model_module_version": "1.5.0",
            "_model_name": "HBoxModel",
            "_view_count": null,
            "_view_module": "@jupyter-widgets/controls",
            "_view_module_version": "1.5.0",
            "_view_name": "HBoxView",
            "box_style": "",
            "children": [
              "IPY_MODEL_8efde8b147534a03a4f60cb12a272901",
              "IPY_MODEL_b3448468a8ac483cb43178a82db036c4",
              "IPY_MODEL_a51a1481b4d648f48bc0b952b37d87c2"
            ],
            "layout": "IPY_MODEL_182d15107d3c4b1fbe97a8ccd40771b6"
          }
        },
        "8efde8b147534a03a4f60cb12a272901": {
          "model_module": "@jupyter-widgets/controls",
          "model_name": "HTMLModel",
          "model_module_version": "1.5.0",
          "state": {
            "_dom_classes": [],
            "_model_module": "@jupyter-widgets/controls",
            "_model_module_version": "1.5.0",
            "_model_name": "HTMLModel",
            "_view_count": null,
            "_view_module": "@jupyter-widgets/controls",
            "_view_module_version": "1.5.0",
            "_view_name": "HTMLView",
            "description": "",
            "description_tooltip": null,
            "layout": "IPY_MODEL_6c8778388ccc47bfb6bc0e6ce878cea6",
            "placeholder": "​",
            "style": "IPY_MODEL_1069955e630641aa9d7e03173e31ca51",
            "value": ""
          }
        },
        "b3448468a8ac483cb43178a82db036c4": {
          "model_module": "@jupyter-widgets/controls",
          "model_name": "FloatProgressModel",
          "model_module_version": "1.5.0",
          "state": {
            "_dom_classes": [],
            "_model_module": "@jupyter-widgets/controls",
            "_model_module_version": "1.5.0",
            "_model_name": "FloatProgressModel",
            "_view_count": null,
            "_view_module": "@jupyter-widgets/controls",
            "_view_module_version": "1.5.0",
            "_view_name": "ProgressView",
            "bar_style": "success",
            "description": "",
            "description_tooltip": null,
            "layout": "IPY_MODEL_044b988697474152a49cb9fb5ad8fded",
            "max": 4542,
            "min": 0,
            "orientation": "horizontal",
            "style": "IPY_MODEL_c7c594821f234d9b935b59e0c7f13fa9",
            "value": 4542
          }
        },
        "a51a1481b4d648f48bc0b952b37d87c2": {
          "model_module": "@jupyter-widgets/controls",
          "model_name": "HTMLModel",
          "model_module_version": "1.5.0",
          "state": {
            "_dom_classes": [],
            "_model_module": "@jupyter-widgets/controls",
            "_model_module_version": "1.5.0",
            "_model_name": "HTMLModel",
            "_view_count": null,
            "_view_module": "@jupyter-widgets/controls",
            "_view_module_version": "1.5.0",
            "_view_name": "HTMLView",
            "description": "",
            "description_tooltip": null,
            "layout": "IPY_MODEL_477e01d715de49a7be16fa726437527c",
            "placeholder": "​",
            "style": "IPY_MODEL_eeadb16d32d144cca626266db897ca23",
            "value": " 5120/? [00:00&lt;00:00, 120812.11it/s]"
          }
        },
        "182d15107d3c4b1fbe97a8ccd40771b6": {
          "model_module": "@jupyter-widgets/base",
          "model_name": "LayoutModel",
          "model_module_version": "1.2.0",
          "state": {
            "_model_module": "@jupyter-widgets/base",
            "_model_module_version": "1.2.0",
            "_model_name": "LayoutModel",
            "_view_count": null,
            "_view_module": "@jupyter-widgets/base",
            "_view_module_version": "1.2.0",
            "_view_name": "LayoutView",
            "align_content": null,
            "align_items": null,
            "align_self": null,
            "border": null,
            "bottom": null,
            "display": null,
            "flex": null,
            "flex_flow": null,
            "grid_area": null,
            "grid_auto_columns": null,
            "grid_auto_flow": null,
            "grid_auto_rows": null,
            "grid_column": null,
            "grid_gap": null,
            "grid_row": null,
            "grid_template_areas": null,
            "grid_template_columns": null,
            "grid_template_rows": null,
            "height": null,
            "justify_content": null,
            "justify_items": null,
            "left": null,
            "margin": null,
            "max_height": null,
            "max_width": null,
            "min_height": null,
            "min_width": null,
            "object_fit": null,
            "object_position": null,
            "order": null,
            "overflow": null,
            "overflow_x": null,
            "overflow_y": null,
            "padding": null,
            "right": null,
            "top": null,
            "visibility": null,
            "width": null
          }
        },
        "6c8778388ccc47bfb6bc0e6ce878cea6": {
          "model_module": "@jupyter-widgets/base",
          "model_name": "LayoutModel",
          "model_module_version": "1.2.0",
          "state": {
            "_model_module": "@jupyter-widgets/base",
            "_model_module_version": "1.2.0",
            "_model_name": "LayoutModel",
            "_view_count": null,
            "_view_module": "@jupyter-widgets/base",
            "_view_module_version": "1.2.0",
            "_view_name": "LayoutView",
            "align_content": null,
            "align_items": null,
            "align_self": null,
            "border": null,
            "bottom": null,
            "display": null,
            "flex": null,
            "flex_flow": null,
            "grid_area": null,
            "grid_auto_columns": null,
            "grid_auto_flow": null,
            "grid_auto_rows": null,
            "grid_column": null,
            "grid_gap": null,
            "grid_row": null,
            "grid_template_areas": null,
            "grid_template_columns": null,
            "grid_template_rows": null,
            "height": null,
            "justify_content": null,
            "justify_items": null,
            "left": null,
            "margin": null,
            "max_height": null,
            "max_width": null,
            "min_height": null,
            "min_width": null,
            "object_fit": null,
            "object_position": null,
            "order": null,
            "overflow": null,
            "overflow_x": null,
            "overflow_y": null,
            "padding": null,
            "right": null,
            "top": null,
            "visibility": null,
            "width": null
          }
        },
        "1069955e630641aa9d7e03173e31ca51": {
          "model_module": "@jupyter-widgets/controls",
          "model_name": "DescriptionStyleModel",
          "model_module_version": "1.5.0",
          "state": {
            "_model_module": "@jupyter-widgets/controls",
            "_model_module_version": "1.5.0",
            "_model_name": "DescriptionStyleModel",
            "_view_count": null,
            "_view_module": "@jupyter-widgets/base",
            "_view_module_version": "1.2.0",
            "_view_name": "StyleView",
            "description_width": ""
          }
        },
        "044b988697474152a49cb9fb5ad8fded": {
          "model_module": "@jupyter-widgets/base",
          "model_name": "LayoutModel",
          "model_module_version": "1.2.0",
          "state": {
            "_model_module": "@jupyter-widgets/base",
            "_model_module_version": "1.2.0",
            "_model_name": "LayoutModel",
            "_view_count": null,
            "_view_module": "@jupyter-widgets/base",
            "_view_module_version": "1.2.0",
            "_view_name": "LayoutView",
            "align_content": null,
            "align_items": null,
            "align_self": null,
            "border": null,
            "bottom": null,
            "display": null,
            "flex": null,
            "flex_flow": null,
            "grid_area": null,
            "grid_auto_columns": null,
            "grid_auto_flow": null,
            "grid_auto_rows": null,
            "grid_column": null,
            "grid_gap": null,
            "grid_row": null,
            "grid_template_areas": null,
            "grid_template_columns": null,
            "grid_template_rows": null,
            "height": null,
            "justify_content": null,
            "justify_items": null,
            "left": null,
            "margin": null,
            "max_height": null,
            "max_width": null,
            "min_height": null,
            "min_width": null,
            "object_fit": null,
            "object_position": null,
            "order": null,
            "overflow": null,
            "overflow_x": null,
            "overflow_y": null,
            "padding": null,
            "right": null,
            "top": null,
            "visibility": null,
            "width": null
          }
        },
        "c7c594821f234d9b935b59e0c7f13fa9": {
          "model_module": "@jupyter-widgets/controls",
          "model_name": "ProgressStyleModel",
          "model_module_version": "1.5.0",
          "state": {
            "_model_module": "@jupyter-widgets/controls",
            "_model_module_version": "1.5.0",
            "_model_name": "ProgressStyleModel",
            "_view_count": null,
            "_view_module": "@jupyter-widgets/base",
            "_view_module_version": "1.2.0",
            "_view_name": "StyleView",
            "bar_color": null,
            "description_width": ""
          }
        },
        "477e01d715de49a7be16fa726437527c": {
          "model_module": "@jupyter-widgets/base",
          "model_name": "LayoutModel",
          "model_module_version": "1.2.0",
          "state": {
            "_model_module": "@jupyter-widgets/base",
            "_model_module_version": "1.2.0",
            "_model_name": "LayoutModel",
            "_view_count": null,
            "_view_module": "@jupyter-widgets/base",
            "_view_module_version": "1.2.0",
            "_view_name": "LayoutView",
            "align_content": null,
            "align_items": null,
            "align_self": null,
            "border": null,
            "bottom": null,
            "display": null,
            "flex": null,
            "flex_flow": null,
            "grid_area": null,
            "grid_auto_columns": null,
            "grid_auto_flow": null,
            "grid_auto_rows": null,
            "grid_column": null,
            "grid_gap": null,
            "grid_row": null,
            "grid_template_areas": null,
            "grid_template_columns": null,
            "grid_template_rows": null,
            "height": null,
            "justify_content": null,
            "justify_items": null,
            "left": null,
            "margin": null,
            "max_height": null,
            "max_width": null,
            "min_height": null,
            "min_width": null,
            "object_fit": null,
            "object_position": null,
            "order": null,
            "overflow": null,
            "overflow_x": null,
            "overflow_y": null,
            "padding": null,
            "right": null,
            "top": null,
            "visibility": null,
            "width": null
          }
        },
        "eeadb16d32d144cca626266db897ca23": {
          "model_module": "@jupyter-widgets/controls",
          "model_name": "DescriptionStyleModel",
          "model_module_version": "1.5.0",
          "state": {
            "_model_module": "@jupyter-widgets/controls",
            "_model_module_version": "1.5.0",
            "_model_name": "DescriptionStyleModel",
            "_view_count": null,
            "_view_module": "@jupyter-widgets/base",
            "_view_module_version": "1.2.0",
            "_view_name": "StyleView",
            "description_width": ""
          }
        }
      }
    }
  },
  "cells": [
    {
      "cell_type": "markdown",
      "metadata": {
        "id": "view-in-github",
        "colab_type": "text"
      },
      "source": [
        "<a href=\"https://colab.research.google.com/github/Hou-jing/deep-learning_HW-liuxinfeng-teacher-/blob/main/%E6%89%8B%E5%86%99%E6%95%B0%E5%AD%97%E8%AF%86%E5%88%AB%E6%A8%A1%E5%9E%8B%E6%9E%B6%E6%9E%84%E4%BA%8C.ipynb\" target=\"_parent\"><img src=\"https://colab.research.google.com/assets/colab-badge.svg\" alt=\"Open In Colab\"/></a>"
      ]
    },
    {
      "cell_type": "code",
      "source": [
        "\timport torch\n",
        "\timport torchvision\n",
        "\tfrom torch.utils.data import DataLoader\n",
        "\timport torch.nn as nn\n",
        "\timport torch.nn.functional as F\n",
        "\timport torch.optim as optim\n",
        "\tfrom torch.optim import lr_scheduler\n",
        "\timport matplotlib.pyplot as plt\n",
        "\tfrom PIL import Image\n",
        "\timport matplotlib.image as image\n",
        "\timport cv2\n",
        "\timport os\n"
      ],
      "metadata": {
        "id": "2vAF5UvhbWYT"
      },
      "execution_count": 1,
      "outputs": []
    },
    {
      "cell_type": "code",
      "source": [
        "#调用GPU\n",
        "os.environ[\"KMP_DUPLICATE_LIB_OK\"] = \"TRUE\"\n",
        "torch.backends.cudnn.benchmark = True\n",
        "device = torch.device(\"cuda\" if torch.cuda.is_available() else \"cpu\")\n",
        "print(device)\n",
        "torch.cuda.empty_cache()\n"
      ],
      "metadata": {
        "colab": {
          "base_uri": "https://localhost:8080/"
        },
        "id": "ajHDGKXDbX8y",
        "outputId": "a11df0e5-e0aa-4cde-bb2e-5071c7d419ba"
      },
      "execution_count": 2,
      "outputs": [
        {
          "output_type": "stream",
          "name": "stdout",
          "text": [
            "cuda\n"
          ]
        }
      ]
    },
    {
      "cell_type": "code",
      "source": [
        "#初始化变量\n",
        "n_epochs = 8 #训练次数\n",
        "batch_size_train = 240 #训练的 batch_size\n",
        "batch_size_test = 1000 #测试的 batch_size\n",
        "learning_rate = 0.001 # 学习率\n",
        "momentum = 0.5 # 在梯度下降过程中解决mini-batch SGD优化算法更新幅度摆动大的问题，使得收敛速度更快\n",
        "log_interval = 10 # 操作间隔\n",
        "random_seed = 2 # 随机种子，设置后可以得到稳定的随机数\n",
        "torch.manual_seed(random_seed)\n"
      ],
      "metadata": {
        "colab": {
          "base_uri": "https://localhost:8080/"
        },
        "id": "Nfh-TMOebZoe",
        "outputId": "cfe887f4-d9ee-4524-da9e-828f23868450"
      },
      "execution_count": 3,
      "outputs": [
        {
          "output_type": "execute_result",
          "data": {
            "text/plain": [
              "<torch._C.Generator at 0x7f8b4cc9b8b0>"
            ]
          },
          "metadata": {},
          "execution_count": 3
        }
      ]
    },
    {
      "cell_type": "code",
      "source": [
        "#导入训练集并增强数据\n",
        "train_loader = torch.utils.data.DataLoader(\n",
        "    torchvision.datasets.MNIST('./mnist/', train=True, download=True,\n",
        "                               transform=torchvision.transforms.Compose([\n",
        "                                   torchvision.transforms.RandomAffine(degrees = 0,translate=(0.1, 0.1)),\n",
        "                                   torchvision.transforms.RandomRotation((-10,10)),#将图片随机旋转（-10,10）度\n",
        "                                   torchvision.transforms.ToTensor(),# 将PIL图片或者numpy.ndarray转成Tensor类型\n",
        "                                   torchvision.transforms.Normalize((0.1307,), (0.3081,))])\n",
        "                              ),\n",
        "    batch_size=batch_size_train, shuffle=True,num_workers=4, pin_memory=True) # shuffle如果为true,每个训练epoch后，会将数据顺序打乱\n"
      ],
      "metadata": {
        "colab": {
          "base_uri": "https://localhost:8080/",
          "height": 478,
          "referenced_widgets": [
            "4f77088e7a694257ab9d46a9ff46d746",
            "089e6d4456334f36ae1d0c6a45321d71",
            "c5041880db694b7bb593db88c1aa9211",
            "ce5f841970f24136ba133f6e2fb619ac",
            "713c0056e81d4e448644b6ed11037ddc",
            "d5446d12040d477eb55792f54bd589ee",
            "cd307df95fa6434d8d5dd70dbd4b810b",
            "c64ba07c8fce414999a114e1a71ccbb8",
            "27ccb39242194b2cba940340392bcce6",
            "44633f68abc04f39abe0512b6b71bb0e",
            "8697c838f0b64ea2bf7e14d78ded8822",
            "4e3e20bfb7e04d089b071a784526b989",
            "958423ef0c1e45cebf8da14921d76a48",
            "911fc568a4ad438680321d3354e281e5",
            "68b64ab375224cd2ad179077d61f3a01",
            "7f3bfa018e0545e38baccbe338c1f85e",
            "586487ece2e94d058ebfc0499b653f59",
            "cea9a0d7e344437ba6a7ce2020277866",
            "fe7fa427a8cf4cb98f78e21d9d0f0060",
            "2fca360a2f5c4659804bd211d13b4d00",
            "3005d525486e4be388774685e1c48698",
            "a40429bfc05446b3b5ac6fd60680e88b",
            "413f5cd60f5845199d2b67edf0c62a95",
            "a983f816a3e54165940116956aed000e",
            "9357e5dee0fc48b58d04df26f5de91a2",
            "04a4a37b47924e3fb8cde816320eebc4",
            "7ad2c798a46e4730ac3719cb36c4a8b3",
            "2a47cf8074ee4a929db0dae72c8d4379",
            "c6487f47f27d4c279c50d624872d4d09",
            "f08a91c811474d16862f734ab03aa97e",
            "7604630cf989493693e5710462a071d1",
            "905e9e962b0b432fb608b1d0062e79ba",
            "351a55886305496686011ca4c40f3a6c",
            "349c4ffa5702429aa2cdda1fe56e69cb",
            "8efde8b147534a03a4f60cb12a272901",
            "b3448468a8ac483cb43178a82db036c4",
            "a51a1481b4d648f48bc0b952b37d87c2",
            "182d15107d3c4b1fbe97a8ccd40771b6",
            "6c8778388ccc47bfb6bc0e6ce878cea6",
            "1069955e630641aa9d7e03173e31ca51",
            "044b988697474152a49cb9fb5ad8fded",
            "c7c594821f234d9b935b59e0c7f13fa9",
            "477e01d715de49a7be16fa726437527c",
            "eeadb16d32d144cca626266db897ca23"
          ]
        },
        "id": "kvw8OHuNbc00",
        "outputId": "b6022b7e-7caf-44fa-c48f-a1b43170d86d"
      },
      "execution_count": null,
      "outputs": [
        {
          "output_type": "stream",
          "name": "stdout",
          "text": [
            "Downloading http://yann.lecun.com/exdb/mnist/train-images-idx3-ubyte.gz\n",
            "Downloading http://yann.lecun.com/exdb/mnist/train-images-idx3-ubyte.gz to ./mnist/MNIST/raw/train-images-idx3-ubyte.gz\n"
          ]
        },
        {
          "output_type": "display_data",
          "data": {
            "text/plain": [
              "  0%|          | 0/9912422 [00:00<?, ?it/s]"
            ],
            "application/vnd.jupyter.widget-view+json": {
              "version_major": 2,
              "version_minor": 0,
              "model_id": "4f77088e7a694257ab9d46a9ff46d746"
            }
          },
          "metadata": {}
        },
        {
          "output_type": "stream",
          "name": "stdout",
          "text": [
            "Extracting ./mnist/MNIST/raw/train-images-idx3-ubyte.gz to ./mnist/MNIST/raw\n",
            "\n",
            "Downloading http://yann.lecun.com/exdb/mnist/train-labels-idx1-ubyte.gz\n",
            "Downloading http://yann.lecun.com/exdb/mnist/train-labels-idx1-ubyte.gz to ./mnist/MNIST/raw/train-labels-idx1-ubyte.gz\n"
          ]
        },
        {
          "output_type": "display_data",
          "data": {
            "text/plain": [
              "  0%|          | 0/28881 [00:00<?, ?it/s]"
            ],
            "application/vnd.jupyter.widget-view+json": {
              "version_major": 2,
              "version_minor": 0,
              "model_id": "4e3e20bfb7e04d089b071a784526b989"
            }
          },
          "metadata": {}
        },
        {
          "output_type": "stream",
          "name": "stdout",
          "text": [
            "Extracting ./mnist/MNIST/raw/train-labels-idx1-ubyte.gz to ./mnist/MNIST/raw\n",
            "\n",
            "Downloading http://yann.lecun.com/exdb/mnist/t10k-images-idx3-ubyte.gz\n",
            "Downloading http://yann.lecun.com/exdb/mnist/t10k-images-idx3-ubyte.gz to ./mnist/MNIST/raw/t10k-images-idx3-ubyte.gz\n"
          ]
        },
        {
          "output_type": "display_data",
          "data": {
            "text/plain": [
              "  0%|          | 0/1648877 [00:00<?, ?it/s]"
            ],
            "application/vnd.jupyter.widget-view+json": {
              "version_major": 2,
              "version_minor": 0,
              "model_id": "413f5cd60f5845199d2b67edf0c62a95"
            }
          },
          "metadata": {}
        },
        {
          "output_type": "stream",
          "name": "stdout",
          "text": [
            "Extracting ./mnist/MNIST/raw/t10k-images-idx3-ubyte.gz to ./mnist/MNIST/raw\n",
            "\n",
            "Downloading http://yann.lecun.com/exdb/mnist/t10k-labels-idx1-ubyte.gz\n",
            "Downloading http://yann.lecun.com/exdb/mnist/t10k-labels-idx1-ubyte.gz to ./mnist/MNIST/raw/t10k-labels-idx1-ubyte.gz\n"
          ]
        },
        {
          "output_type": "display_data",
          "data": {
            "text/plain": [
              "  0%|          | 0/4542 [00:00<?, ?it/s]"
            ],
            "application/vnd.jupyter.widget-view+json": {
              "version_major": 2,
              "version_minor": 0,
              "model_id": "349c4ffa5702429aa2cdda1fe56e69cb"
            }
          },
          "metadata": {}
        },
        {
          "output_type": "stream",
          "name": "stdout",
          "text": [
            "Extracting ./mnist/MNIST/raw/t10k-labels-idx1-ubyte.gz to ./mnist/MNIST/raw\n",
            "\n"
          ]
        },
        {
          "output_type": "stream",
          "name": "stderr",
          "text": [
            "/usr/local/lib/python3.7/dist-packages/torch/utils/data/dataloader.py:481: UserWarning: This DataLoader will create 4 worker processes in total. Our suggested max number of worker in current system is 2, which is smaller than what this DataLoader is going to create. Please be aware that excessive worker creation might get DataLoader running slow or even freeze, lower the worker number to avoid potential slowness/freeze if necessary.\n",
            "  cpuset_checked))\n"
          ]
        }
      ]
    },
    {
      "cell_type": "markdown",
      "source": [
        "对图像进行仿射变换，仿射变换是二维的线性变换，由五种基本原子变换构成，分别是旋转、平移、缩放、错切和翻转。\n",
        "\n",
        "degrees：旋转角度设置\n",
        "translate：平移区间设置，如（ａ，ｂ），ａ设置宽(width)，ｂ设置高(height)。\n",
        "图像在宽维度平移的区间为　-img_width * a < dx < img_width * a　。\n",
        "scale：缩放比例（以面积为单位）\n",
        "fill_colore：一种填充颜色设置。\n",
        "shear：错切角度设置，有水平错切和锤子错切。\n",
        "若为ａ，则仅在ｘ轴错切，错切角度在（－ａ，ａ）之间\n",
        "若为（ａ，ｂ），则ａ设置ｘ轴角度，ｂ设置ｙ的角度。\n",
        "若为（ａ，ｂ，ｃ，ｄ），则ａ，ｂ设置ｘ轴角度，ｃ，ｄ设置ｙ轴角度。\n",
        "resample：采样方式，有NEAREST、BILINEAR 、BICUBIC。\n",
        "fill_color：填充的颜色\n",
        "————————————————\n",
        "版权声明：本文为CSDN博主「NotFound1911」的原创文章，遵循CC 4.0 BY-SA版权协议，转载请附上原文出处链接及本声明。\n",
        "原文链接：https://blog.csdn.net/qq_24739717/article/details/102743691"
      ],
      "metadata": {
        "id": "wC-pla9Fb7Gk"
      }
    },
    {
      "cell_type": "code",
      "source": [
        "#导入测试集\n",
        "test_loader = torch.utils.data.DataLoader(\n",
        "    torchvision.datasets.MNIST('./mnist/', train=False, download=True,\n",
        "                               transform=torchvision.transforms.Compose([\n",
        "                                   torchvision.transforms.ToTensor(),\n",
        "                                   torchvision.transforms.Normalize((0.1307,), (0.3081,))])\n",
        "                              ),\n",
        "    batch_size=batch_size_test, shuffle=True,num_workers=4, pin_memory=True)\n"
      ],
      "metadata": {
        "colab": {
          "base_uri": "https://localhost:8080/"
        },
        "id": "yCRPGm0Xbfl8",
        "outputId": "d5417867-9aca-4a47-f190-e90031abbff1"
      },
      "execution_count": null,
      "outputs": [
        {
          "output_type": "stream",
          "name": "stderr",
          "text": [
            "/usr/local/lib/python3.7/dist-packages/torch/utils/data/dataloader.py:481: UserWarning: This DataLoader will create 4 worker processes in total. Our suggested max number of worker in current system is 2, which is smaller than what this DataLoader is going to create. Please be aware that excessive worker creation might get DataLoader running slow or even freeze, lower the worker number to avoid potential slowness/freeze if necessary.\n",
            "  cpuset_checked))\n"
          ]
        }
      ]
    },
    {
      "cell_type": "code",
      "source": [
        "# 用 enumerate 加载测试集\n",
        "examples = enumerate(test_loader)\n",
        "# 获取一个 batch\n",
        "batch_idx, (example_data, example_targets) = next(examples)\n",
        "# 查看 batch 数据，有10000张图像的标签，tensor 大小为 [1000, 1, 28, 28]\n",
        "# 即图像为 28 * 28， 1个颜色通道（灰度图）， 1000张图像\n",
        "#print(example_targets)\n",
        "#print(example_data.shape)\n"
      ],
      "metadata": {
        "colab": {
          "base_uri": "https://localhost:8080/"
        },
        "id": "0GkZvpx3biEX",
        "outputId": "4cebd95c-176d-48a9-ce0f-3d1aac8d12a6"
      },
      "execution_count": null,
      "outputs": [
        {
          "output_type": "stream",
          "name": "stderr",
          "text": [
            "/usr/local/lib/python3.7/dist-packages/torch/utils/data/dataloader.py:481: UserWarning: This DataLoader will create 4 worker processes in total. Our suggested max number of worker in current system is 2, which is smaller than what this DataLoader is going to create. Please be aware that excessive worker creation might get DataLoader running slow or even freeze, lower the worker number to avoid potential slowness/freeze if necessary.\n",
            "  cpuset_checked))\n"
          ]
        }
      ]
    },
    {
      "cell_type": "code",
      "source": [
        ""
      ],
      "metadata": {
        "id": "z0BQFw1fbnUr"
      },
      "execution_count": null,
      "outputs": []
    },
    {
      "cell_type": "code",
      "source": [
        "#查看部分图片\n",
        "fig = plt.figure()\n",
        "for i in range(6):\n",
        "    plt.subplot(2,3,i+1)# 创建 subplot\n",
        "    plt.tight_layout()\n",
        "    plt.imshow(example_data[i][0], cmap='gray', interpolation='none')\n",
        "    plt.title(\"Label: {}\".format(example_targets[i]))\n",
        "    plt.xticks([])\n",
        "    plt.yticks([])\n",
        "plt.show()\n"
      ],
      "metadata": {
        "colab": {
          "base_uri": "https://localhost:8080/",
          "height": 284
        },
        "id": "4ue64GR5biHQ",
        "outputId": "e3453ffd-fca5-436e-8b64-4500cf866bae"
      },
      "execution_count": null,
      "outputs": [
        {
          "output_type": "display_data",
          "data": {
            "text/plain": [
              "<Figure size 432x288 with 6 Axes>"
            ],
            "image/png": "[encoded data removed]"
          },
          "metadata": {}
        }
      ]
    },
    {
      "cell_type": "markdown",
      "source": [
        ""
      ],
      "metadata": {
        "id": "bqkhqdggboB3"
      }
    },
    {
      "cell_type": "code",
      "source": [
        ""
      ],
      "metadata": {
        "id": "YriVrNKdboL7"
      },
      "execution_count": null,
      "outputs": []
    },
    {
      "cell_type": "code",
      "source": [
        "#model\n",
        "class CNNModel(nn.Module):\n",
        "    def __init__(self):\n",
        "        super(CNNModel, self).__init__()\n",
        "        \n",
        "        # Convolution layer 1 (（w - f + 2 * p）/ s ) + 1\n",
        "        self.conv1 = nn.Conv2d(in_channels = 1 , out_channels = 32, kernel_size = 5, stride = 1, padding = 0 )\n",
        "        self.relu1 = nn.ReLU()\n",
        "        self.batch1 = nn.BatchNorm2d(32)\n",
        "        \n",
        "        self.conv2 = nn.Conv2d(in_channels =32 , out_channels = 32, kernel_size = 5, stride = 1, padding = 0 )\n",
        "        self.relu2 = nn.ReLU()\n",
        "        self.batch2 = nn.BatchNorm2d(32)\n",
        "        self.maxpool1 = nn.MaxPool2d(kernel_size = 2, stride = 2)\n",
        "        self.conv1_drop = nn.Dropout(0.25)\n",
        "\n",
        "        # Convolution layer 2\n",
        "        self.conv3 = nn.Conv2d(in_channels = 32, out_channels = 64, kernel_size = 3, stride = 1, padding = 0 )\n",
        "        self.relu3 = nn.ReLU()\n",
        "        self.batch3 = nn.BatchNorm2d(64)\n",
        "        \n",
        "        self.conv4 = nn.Conv2d(in_channels = 64, out_channels = 64, kernel_size = 3, stride = 1, padding = 0 )\n",
        "        self.relu4 = nn.ReLU()\n",
        "        self.batch4 = nn.BatchNorm2d(64)\n",
        "        self.maxpool2 = nn.MaxPool2d(kernel_size = 2, stride = 2)\n",
        "        self.conv2_drop = nn.Dropout(0.25)\n",
        "\n",
        "        # Fully-Connected layer 1\n",
        "        \n",
        "        self.fc1 = nn.Linear(576,256)\n",
        "        self.fc1_relu = nn.ReLU()\n",
        "        self.dp1 = nn.Dropout(0.5)\n",
        "        \n",
        "        # Fully-Connected layer 2\n",
        "        self.fc2 = nn.Linear(256,10)\n",
        "                \n",
        "    def forward(self, x):\n",
        "        # conv layer 1 的前向计算，3行代码\n",
        "        out = self.conv1(x)\n",
        "        out = self.relu1(out)\n",
        "        out = self.batch1(out)\n",
        "        \n",
        "        out = self.conv2(out)\n",
        "        out = self.relu2(out)\n",
        "        out = self.batch2(out)\n",
        "        \n",
        "        out = self.maxpool1(out)\n",
        "        out = self.conv1_drop(out)\n",
        "\n",
        "        # conv layer 2 的前向计算，4行代码\n",
        "        out = self.conv3(out)\n",
        "        out = self.relu3(out)\n",
        "        out = self.batch3(out)\n",
        "        \n",
        "        out = self.conv4(out)\n",
        "        out = self.relu4(out)\n",
        "        out = self.batch4(out)\n",
        "        \n",
        "        out = self.maxpool2(out)\n",
        "        out = self.conv2_drop(out)\n",
        "\n",
        "        #Flatten拉平操作\n",
        "        out = out.view(out.size(0),-1)\n",
        "\n",
        "        #FC layer的前向计算（2行代码）\n",
        "        out = self.fc1(out)\n",
        "        out = self.fc1_relu(out)\n",
        "        out = self.dp1(out)\n",
        "        \n",
        "        out = self.fc2(out)\n",
        "\n",
        "        return F.log_softmax(out,dim = 1)\n"
      ],
      "metadata": {
        "id": "nXKqB2QVboOh"
      },
      "execution_count": 4,
      "outputs": []
    },
    {
      "cell_type": "code",
      "source": [
        "# 实例化一个网络\n",
        "network = CNNModel()\n",
        "from torchsummary import summary\n",
        "summary(network,(1, 28, 28), device=\"cpu\")\n",
        "network.to(device)\n",
        "#调用权值初始化函数\n",
        "\n",
        "# 设置优化器，用stochastic gradient descent，设置学习率，设置momentum\n",
        "#optimizer = optim.SGD(network.parameters(), lr=learning_rate, momentum=momentum)\n",
        "#optimizer = optim.Adam(network.parameters(), lr=learning_rate)\n",
        "optimizer = optim.RMSprop(network.parameters(),lr=learning_rate,alpha=0.99,momentum = momentum)\n",
        "#设置学习率梯度下降，如果连续三个epoch测试准确率没有上升，则降低学习率\n",
        "scheduler = lr_scheduler.ReduceLROnPlateau(optimizer, mode='max', factor=0.5, patience=3, verbose=True, threshold=0.00005, threshold_mode='rel', cooldown=0, min_lr=0, eps=1e-08)\n"
      ],
      "metadata": {
        "id": "Y-ln1B6dbxnO",
        "colab": {
          "base_uri": "https://localhost:8080/"
        },
        "outputId": "a943be0a-6e88-4630-c623-4d5168c80c9b"
      },
      "execution_count": 5,
      "outputs": [
        {
          "output_type": "stream",
          "name": "stdout",
          "text": [
            "----------------------------------------------------------------\n",
            "        Layer (type)               Output Shape         Param #\n",
            "================================================================\n",
            "            Conv2d-1           [-1, 32, 24, 24]             832\n",
            "              ReLU-2           [-1, 32, 24, 24]               0\n",
            "       BatchNorm2d-3           [-1, 32, 24, 24]              64\n",
            "            Conv2d-4           [-1, 32, 20, 20]          25,632\n",
            "              ReLU-5           [-1, 32, 20, 20]               0\n",
            "       BatchNorm2d-6           [-1, 32, 20, 20]              64\n",
            "         MaxPool2d-7           [-1, 32, 10, 10]               0\n",
            "           Dropout-8           [-1, 32, 10, 10]               0\n",
            "            Conv2d-9             [-1, 64, 8, 8]          18,496\n",
            "             ReLU-10             [-1, 64, 8, 8]               0\n",
            "      BatchNorm2d-11             [-1, 64, 8, 8]             128\n",
            "           Conv2d-12             [-1, 64, 6, 6]          36,928\n",
            "             ReLU-13             [-1, 64, 6, 6]               0\n",
            "      BatchNorm2d-14             [-1, 64, 6, 6]             128\n",
            "        MaxPool2d-15             [-1, 64, 3, 3]               0\n",
            "          Dropout-16             [-1, 64, 3, 3]               0\n",
            "           Linear-17                  [-1, 256]         147,712\n",
            "             ReLU-18                  [-1, 256]               0\n",
            "          Dropout-19                  [-1, 256]               0\n",
            "           Linear-20                   [-1, 10]           2,570\n",
            "================================================================\n",
            "Total params: 232,554\n",
            "Trainable params: 232,554\n",
            "Non-trainable params: 0\n",
            "----------------------------------------------------------------\n",
            "Input size (MB): 0.00\n",
            "Forward/backward pass size (MB): 0.92\n",
            "Params size (MB): 0.89\n",
            "Estimated Total Size (MB): 1.81\n",
            "----------------------------------------------------------------\n"
          ]
        }
      ]
    },
    {
      "cell_type": "code",
      "source": [
        "#定义存储数据的列表\n",
        "train_losses = []\n",
        "train_counter = []\n",
        "train_acces = []\n",
        "test_losses = []\n",
        "test_counter = [i*len(train_loader.dataset) for i in range(n_epochs + 1)]\n",
        "test_acces = []\n"
      ],
      "metadata": {
        "id": "XwhJw7CZbyUX"
      },
      "execution_count": null,
      "outputs": []
    },
    {
      "cell_type": "code",
      "source": [
        "# 定义训练函数\n",
        "def train(epoch):\n",
        "    \n",
        "    network.train() # 将网络设为 training 模式\n",
        "    train_correct = 0\n",
        "    # 对一组 batch \n",
        "    for batch_idx, (data, target) in enumerate(train_loader): \n",
        "        # 通过enumerate获取batch_id, data, and label\n",
        "        # 1-将梯度归零\n",
        "        optimizer.zero_grad()\n",
        "        \n",
        "        # 2-传入一个batch的图像，并前向计算\n",
        "        # data.to(device)把图片放入GPU中计算\n",
        "        output = network(data.to(device))\n",
        "        \n",
        "        # 3-计算损失\n",
        "        loss = F.nll_loss(output, target.to(device))\n",
        "        \n",
        "        # 4-反向传播\n",
        "        loss.backward()\n",
        "        \n",
        "        # 5-优化参数\n",
        "        optimizer.step()\n",
        "        #exp_lr_scheduler.step()\n",
        "        \n",
        "        train_pred = output.data.max(dim=1, keepdim=True)[1] # 取 output 里最大的那个类别, \n",
        "             # dim = 1表示去每行的最大值，[1]表示取最大值的index，而不去最大值本身[0]    \n",
        "\n",
        "        train_correct += train_pred.eq(target.data.view_as(train_pred).to(device)).sum() # 比较并求正确分类的个数\n",
        "        #打印以下信息：第几个epoch，第几张图像， 总训练图像数, 完成百分比，目前的loss\n",
        "        print('\\r 第 {} 次 Train Epoch: [{}/{} ({:.0f}%)]\\tLoss: {:.6f}'.format(\n",
        "                epoch, (batch_idx + 1) * len(data), len(train_loader.dataset),\n",
        "                100. * batch_idx / len(train_loader), loss.item()),end = '')\n",
        "\n",
        "        # 每第10个batch (log_interval = 10)\n",
        "        if batch_idx  % log_interval == 0:\n",
        "            #print(batch_idx)\n",
        "            # 把目前的 loss加入到 train_losses,后期画图用\n",
        "            train_losses.append(loss.item())\n",
        "            # 计数\n",
        "            train_counter.append(\n",
        "                (batch_idx*64) + ((epoch-1)*len(train_loader.dataset)))\n",
        "    \n",
        "    train_acc = train_correct / len(train_loader.dataset)\n",
        "    train_acces.append(train_acc.cpu().numpy().tolist())\n",
        "    print('\\tTrain Accuracy:{:.2f}%'.format(100. * train_acc))\n"
      ],
      "metadata": {
        "id": "nu3lAYxjb3j0"
      },
      "execution_count": null,
      "outputs": []
    },
    {
      "cell_type": "code",
      "source": [
        "# 定义测试函数\n",
        "def test(epoch):\n",
        "    network.eval() # 将网络设为 evaluating 模式\n",
        "    test_loss = 0\n",
        "    correct = 0\n",
        "    with torch.no_grad():\n",
        "        for data, target in test_loader:\n",
        "            output = network(data.to(device)) # 传入这一组 batch，进行前向计算\n",
        "            #test_loss += F.nll_loss(output, target, size_average=False).item()\n",
        "            test_loss += F.nll_loss(output, target.to(device), reduction='sum').item()\n",
        "\n",
        "            pred = output.data.max(dim=1, keepdim=True)[1] # 取 output 里最大的那个类别, \n",
        "             # dim = 1表示去每行的最大值，[1]表示取最大值的index，而不去最大值本身[0]    \n",
        "\n",
        "            correct += pred.eq(target.data.view_as(pred).to(device)).sum() # 比较并求正确分类的个数\n",
        "    acc = correct / len(test_loader.dataset)# 平均测试准确率\n",
        "    test_acces.append(acc.cpu().numpy().tolist())\n",
        "    \n",
        "    test_loss /= len(test_loader.dataset) # 平均 loss， len 为 10000\n",
        "    test_losses.append(test_loss) # 记录该 epoch 下的 test_loss\n",
        "    \n",
        "    #保存测试准确率最大的模型\n",
        "    if test_acces[-1] >= max(test_acces):\n",
        "        # 每个batch训练完后保存模型 \n",
        "        torch.save(network.state_dict(), './model02.pth')\n",
        "\n",
        "        # 每个batch训练完后保存优化器\n",
        "        torch.save(optimizer.state_dict(), './optimizer02.pth')\n",
        "    \n",
        "    # 打印相关信息 如：Test set: Avg. loss: 2.3129, Accuracy: 1205/10000 (12%)\n",
        "    print('\\r Test set \\033[1;31m{}\\033[0m : Avg. loss: {:.4f}, Accuracy: {}/{}  \\033[1;31m({:.2f}%)\\033[0m\\n'\\\n",
        "          .format(epoch,test_loss, correct,len(test_loader.dataset),100. * acc),end = '') \n"
      ],
      "metadata": {
        "id": "J8eXxkOtb40n"
      },
      "execution_count": null,
      "outputs": []
    },
    {
      "cell_type": "code",
      "source": [
        "### 训练！！！ 并在每个epoch之后测试 ###\n",
        "###################################################\n",
        "# 根据epoch数正式训练并在每个epoch训练结束后测试\n",
        "for epoch in range(1, n_epochs + 1):\n",
        "    scheduler.step(200)\n",
        "    train(epoch)\n",
        "    test(epoch)\n",
        "#输入最后保存的模型的准确率，也就是最高测试准确率\n",
        "print('\\n\\033[1;31mThe network Max Avg Accuracy : {:.2f}%\\033[0m'.format(100. * max(test_acces)))\n"
      ],
      "metadata": {
        "colab": {
          "base_uri": "https://localhost:8080/"
        },
        "id": "U8aXWOZZb428",
        "outputId": "d82ddde2-ae18-4cb4-9105-40cb48c68ebd"
      },
      "execution_count": null,
      "outputs": [
        {
          "output_type": "stream",
          "name": "stderr",
          "text": [
            "/usr/local/lib/python3.7/dist-packages/torch/utils/data/dataloader.py:481: UserWarning: This DataLoader will create 4 worker processes in total. Our suggested max number of worker in current system is 2, which is smaller than what this DataLoader is going to create. Please be aware that excessive worker creation might get DataLoader running slow or even freeze, lower the worker number to avoid potential slowness/freeze if necessary.\n",
            "  cpuset_checked))\n"
          ]
        },
        {
          "output_type": "stream",
          "name": "stdout",
          "text": [
            " 第 1 次 Train Epoch: [60000/60000 (100%)]\tLoss: 0.156028\tTrain Accuracy:91.34%\n",
            " Test set \u001b[1;31m1\u001b[0m : Avg. loss: 0.0375, Accuracy: 9896/10000  \u001b[1;31m(98.96%)\u001b[0m\n",
            " 第 2 次 Train Epoch: [60000/60000 (100%)]\tLoss: 0.063662\tTrain Accuracy:96.69%\n",
            " Test set \u001b[1;31m2\u001b[0m : Avg. loss: 0.0267, Accuracy: 9920/10000  \u001b[1;31m(99.20%)\u001b[0m\n",
            " 第 3 次 Train Epoch: [60000/60000 (100%)]\tLoss: 0.175545\tTrain Accuracy:97.33%\n",
            " Test set \u001b[1;31m3\u001b[0m : Avg. loss: 0.0250, Accuracy: 9925/10000  \u001b[1;31m(99.25%)\u001b[0m\n",
            " 第 4 次 Train Epoch: [60000/60000 (100%)]\tLoss: 0.051297\tTrain Accuracy:97.72%\n",
            " Test set \u001b[1;31m4\u001b[0m : Avg. loss: 0.0287, Accuracy: 9906/10000  \u001b[1;31m(99.06%)\u001b[0m\n",
            "Epoch     5: reducing learning rate of group 0 to 5.0000e-04.\n",
            " 第 5 次 Train Epoch: [60000/60000 (100%)]\tLoss: 0.035339\tTrain Accuracy:98.29%\n",
            " Test set \u001b[1;31m5\u001b[0m : Avg. loss: 0.0151, Accuracy: 9956/10000  \u001b[1;31m(99.56%)\u001b[0m\n",
            " 第 6 次 Train Epoch: [60000/60000 (100%)]\tLoss: 0.043971\tTrain Accuracy:98.44%\n",
            " Test set \u001b[1;31m6\u001b[0m : Avg. loss: 0.0162, Accuracy: 9944/10000  \u001b[1;31m(99.44%)\u001b[0m\n",
            " 第 7 次 Train Epoch: [60000/60000 (100%)]\tLoss: 0.087723\tTrain Accuracy:98.51%\n",
            " Test set \u001b[1;31m7\u001b[0m : Avg. loss: 0.0147, Accuracy: 9956/10000  \u001b[1;31m(99.56%)\u001b[0m\n",
            " 第 8 次 Train Epoch: [60000/60000 (100%)]\tLoss: 0.047660\tTrain Accuracy:98.61%\n",
            " Test set \u001b[1;31m8\u001b[0m : Avg. loss: 0.0151, Accuracy: 9949/10000  \u001b[1;31m(99.49%)\u001b[0m\n",
            "\n",
            "\u001b[1;31mThe network Max Avg Accuracy : 99.56%\u001b[0m\n"
          ]
        }
      ]
    },
    {
      "cell_type": "code",
      "source": [
        "#可视化\n",
        "fig = plt.figure(figsize=(15,5))#将画图窗口横向放大15倍，纵向放大5倍\n",
        "ax1 = fig.add_subplot(121)\n",
        "#训练损失\n",
        "ax1.plot(train_counter, train_losses, color='blue')\n",
        "#测试损失\n",
        "plt.scatter(test_counter[:len(test_losses)], test_losses, color='red')\n",
        "#图例\n",
        "plt.legend(['Train Loss', 'Test Loss'], loc='upper right')\n",
        "plt.title('Train & Test Loss')\n",
        "plt.xlabel('number of training examples seen')\n",
        "plt.ylabel('negative log likelihood loss')\n",
        "\n",
        "plt.subplot(122)\n",
        "#最大测试准确率的索引\n",
        "max_test_acces_epoch = test_acces.index(max(test_acces))\n",
        "#最大值保留4位小数，四舍五入\n",
        "max_test_acces = round(max(test_acces),4)\n",
        "#训练准确率\n",
        "plt.plot([epoch+1 for epoch in range(n_epochs) ], train_acces, color='blue')\n",
        "#测试准确率\n",
        "plt.plot([epoch+1 for epoch in range(n_epochs) ], test_acces[1:], color='red')\n",
        "\n",
        "plt.plot(max_test_acces_epoch,max_test_acces,'ko') #最大值点\n",
        "\n",
        "show_max='  ['+str(max_test_acces_epoch )+' , '+str(max_test_acces)+']'\n",
        "#最大值点坐标显示\n",
        "plt.annotate(show_max,xy=(max_test_acces_epoch,max_test_acces), \n",
        "             xytext=(max_test_acces_epoch,max_test_acces))\n",
        "\n",
        "plt.legend(['Train acc', 'Test acc'], loc='lower right')\n",
        "plt.title('Train & Test Accuracy')\n",
        "#plt.ylim(0.8, 1)\n",
        "plt.xlabel('number of training epoch')\n",
        "plt.ylabel('negative log likelihood acc')\n",
        "plt.show()\n"
      ],
      "metadata": {
        "id": "u_pv7vyUb45g"
      },
      "execution_count": null,
      "outputs": []
    }
  ]
}