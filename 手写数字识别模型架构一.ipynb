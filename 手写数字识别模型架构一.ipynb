{
  "nbformat": 4,
  "nbformat_minor": 0,
  "metadata": {
    "colab": {
      "name": "手写数字识别.ipynb",
      "provenance": [],
      "authorship_tag": "ABX9TyOkGM4vT/R1xLdsXK8osCBb",
      "include_colab_link": true
    },
    "kernelspec": {
      "name": "python3",
      "display_name": "Python 3"
    },
    "language_info": {
      "name": "python"
    },
    "accelerator": "GPU",
    "widgets": {
      "application/vnd.jupyter.widget-state+json": {
        "8fdce20d20694a56950bce2d213bbfbb": {
          "model_module": "@jupyter-widgets/controls",
          "model_name": "HBoxModel",
          "model_module_version": "1.5.0",
          "state": {
            "_dom_classes": [],
            "_model_module": "@jupyter-widgets/controls",
            "_model_module_version": "1.5.0",
            "_model_name": "HBoxModel",
            "_view_count": null,
            "_view_module": "@jupyter-widgets/controls",
            "_view_module_version": "1.5.0",
            "_view_name": "HBoxView",
            "box_style": "",
            "children": [
              "IPY_MODEL_8e8f21c626c54818917194bc5b556a23",
              "IPY_MODEL_f1ed61aacdbe4e01b8eadb5731d7a504",
              "IPY_MODEL_c661b687d40c4c90af348454a5bb3029"
            ],
            "layout": "IPY_MODEL_4155d54aaed944fabd6a4b98b25bd711"
          }
        },
        "8e8f21c626c54818917194bc5b556a23": {
          "model_module": "@jupyter-widgets/controls",
          "model_name": "HTMLModel",
          "model_module_version": "1.5.0",
          "state": {
            "_dom_classes": [],
            "_model_module": "@jupyter-widgets/controls",
            "_model_module_version": "1.5.0",
            "_model_name": "HTMLModel",
            "_view_count": null,
            "_view_module": "@jupyter-widgets/controls",
            "_view_module_version": "1.5.0",
            "_view_name": "HTMLView",
            "description": "",
            "description_tooltip": null,
            "layout": "IPY_MODEL_e1294e2838444db0a4b4752eeec50de0",
            "placeholder": "​",
            "style": "IPY_MODEL_ffad3a515fc04b00940aa672d6223c67",
            "value": ""
          }
        },
        "f1ed61aacdbe4e01b8eadb5731d7a504": {
          "model_module": "@jupyter-widgets/controls",
          "model_name": "FloatProgressModel",
          "model_module_version": "1.5.0",
          "state": {
            "_dom_classes": [],
            "_model_module": "@jupyter-widgets/controls",
            "_model_module_version": "1.5.0",
            "_model_name": "FloatProgressModel",
            "_view_count": null,
            "_view_module": "@jupyter-widgets/controls",
            "_view_module_version": "1.5.0",
            "_view_name": "ProgressView",
            "bar_style": "success",
            "description": "",
            "description_tooltip": null,
            "layout": "IPY_MODEL_0fb04a772ef449d9ab5cedcafd3d7d92",
            "max": 9912422,
            "min": 0,
            "orientation": "horizontal",
            "style": "IPY_MODEL_7ba818d04d7449449f76654f02c5eb2e",
            "value": 9912422
          }
        },
        "c661b687d40c4c90af348454a5bb3029": {
          "model_module": "@jupyter-widgets/controls",
          "model_name": "HTMLModel",
          "model_module_version": "1.5.0",
          "state": {
            "_dom_classes": [],
            "_model_module": "@jupyter-widgets/controls",
            "_model_module_version": "1.5.0",
            "_model_name": "HTMLModel",
            "_view_count": null,
            "_view_module": "@jupyter-widgets/controls",
            "_view_module_version": "1.5.0",
            "_view_name": "HTMLView",
            "description": "",
            "description_tooltip": null,
            "layout": "IPY_MODEL_32c4facaebd742f3bc144eb08cc02fc1",
            "placeholder": "​",
            "style": "IPY_MODEL_4e9ffff4aef74f7eaf9379cda1d06e4c",
            "value": " 9913344/? [00:00&lt;00:00, 63907932.27it/s]"
          }
        },
        "4155d54aaed944fabd6a4b98b25bd711": {
          "model_module": "@jupyter-widgets/base",
          "model_name": "LayoutModel",
          "model_module_version": "1.2.0",
          "state": {
            "_model_module": "@jupyter-widgets/base",
            "_model_module_version": "1.2.0",
            "_model_name": "LayoutModel",
            "_view_count": null,
            "_view_module": "@jupyter-widgets/base",
            "_view_module_version": "1.2.0",
            "_view_name": "LayoutView",
            "align_content": null,
            "align_items": null,
            "align_self": null,
            "border": null,
            "bottom": null,
            "display": null,
            "flex": null,
            "flex_flow": null,
            "grid_area": null,
            "grid_auto_columns": null,
            "grid_auto_flow": null,
            "grid_auto_rows": null,
            "grid_column": null,
            "grid_gap": null,
            "grid_row": null,
            "grid_template_areas": null,
            "grid_template_columns": null,
            "grid_template_rows": null,
            "height": null,
            "justify_content": null,
            "justify_items": null,
            "left": null,
            "margin": null,
            "max_height": null,
            "max_width": null,
            "min_height": null,
            "min_width": null,
            "object_fit": null,
            "object_position": null,
            "order": null,
            "overflow": null,
            "overflow_x": null,
            "overflow_y": null,
            "padding": null,
            "right": null,
            "top": null,
            "visibility": null,
            "width": null
          }
        },
        "e1294e2838444db0a4b4752eeec50de0": {
          "model_module": "@jupyter-widgets/base",
          "model_name": "LayoutModel",
          "model_module_version": "1.2.0",
          "state": {
            "_model_module": "@jupyter-widgets/base",
            "_model_module_version": "1.2.0",
            "_model_name": "LayoutModel",
            "_view_count": null,
            "_view_module": "@jupyter-widgets/base",
            "_view_module_version": "1.2.0",
            "_view_name": "LayoutView",
            "align_content": null,
            "align_items": null,
            "align_self": null,
            "border": null,
            "bottom": null,
            "display": null,
            "flex": null,
            "flex_flow": null,
            "grid_area": null,
            "grid_auto_columns": null,
            "grid_auto_flow": null,
            "grid_auto_rows": null,
            "grid_column": null,
            "grid_gap": null,
            "grid_row": null,
            "grid_template_areas": null,
            "grid_template_columns": null,
            "grid_template_rows": null,
            "height": null,
            "justify_content": null,
            "justify_items": null,
            "left": null,
            "margin": null,
            "max_height": null,
            "max_width": null,
            "min_height": null,
            "min_width": null,
            "object_fit": null,
            "object_position": null,
            "order": null,
            "overflow": null,
            "overflow_x": null,
            "overflow_y": null,
            "padding": null,
            "right": null,
            "top": null,
            "visibility": null,
            "width": null
          }
        },
        "ffad3a515fc04b00940aa672d6223c67": {
          "model_module": "@jupyter-widgets/controls",
          "model_name": "DescriptionStyleModel",
          "model_module_version": "1.5.0",
          "state": {
            "_model_module": "@jupyter-widgets/controls",
            "_model_module_version": "1.5.0",
            "_model_name": "DescriptionStyleModel",
            "_view_count": null,
            "_view_module": "@jupyter-widgets/base",
            "_view_module_version": "1.2.0",
            "_view_name": "StyleView",
            "description_width": ""
          }
        },
        "0fb04a772ef449d9ab5cedcafd3d7d92": {
          "model_module": "@jupyter-widgets/base",
          "model_name": "LayoutModel",
          "model_module_version": "1.2.0",
          "state": {
            "_model_module": "@jupyter-widgets/base",
            "_model_module_version": "1.2.0",
            "_model_name": "LayoutModel",
            "_view_count": null,
            "_view_module": "@jupyter-widgets/base",
            "_view_module_version": "1.2.0",
            "_view_name": "LayoutView",
            "align_content": null,
            "align_items": null,
            "align_self": null,
            "border": null,
            "bottom": null,
            "display": null,
            "flex": null,
            "flex_flow": null,
            "grid_area": null,
            "grid_auto_columns": null,
            "grid_auto_flow": null,
            "grid_auto_rows": null,
            "grid_column": null,
            "grid_gap": null,
            "grid_row": null,
            "grid_template_areas": null,
            "grid_template_columns": null,
            "grid_template_rows": null,
            "height": null,
            "justify_content": null,
            "justify_items": null,
            "left": null,
            "margin": null,
            "max_height": null,
            "max_width": null,
            "min_height": null,
            "min_width": null,
            "object_fit": null,
            "object_position": null,
            "order": null,
            "overflow": null,
            "overflow_x": null,
            "overflow_y": null,
            "padding": null,
            "right": null,
            "top": null,
            "visibility": null,
            "width": null
          }
        },
        "7ba818d04d7449449f76654f02c5eb2e": {
          "model_module": "@jupyter-widgets/controls",
          "model_name": "ProgressStyleModel",
          "model_module_version": "1.5.0",
          "state": {
            "_model_module": "@jupyter-widgets/controls",
            "_model_module_version": "1.5.0",
            "_model_name": "ProgressStyleModel",
            "_view_count": null,
            "_view_module": "@jupyter-widgets/base",
            "_view_module_version": "1.2.0",
            "_view_name": "StyleView",
            "bar_color": null,
            "description_width": ""
          }
        },
        "32c4facaebd742f3bc144eb08cc02fc1": {
          "model_module": "@jupyter-widgets/base",
          "model_name": "LayoutModel",
          "model_module_version": "1.2.0",
          "state": {
            "_model_module": "@jupyter-widgets/base",
            "_model_module_version": "1.2.0",
            "_model_name": "LayoutModel",
            "_view_count": null,
            "_view_module": "@jupyter-widgets/base",
            "_view_module_version": "1.2.0",
            "_view_name": "LayoutView",
            "align_content": null,
            "align_items": null,
            "align_self": null,
            "border": null,
            "bottom": null,
            "display": null,
            "flex": null,
            "flex_flow": null,
            "grid_area": null,
            "grid_auto_columns": null,
            "grid_auto_flow": null,
            "grid_auto_rows": null,
            "grid_column": null,
            "grid_gap": null,
            "grid_row": null,
            "grid_template_areas": null,
            "grid_template_columns": null,
            "grid_template_rows": null,
            "height": null,
            "justify_content": null,
            "justify_items": null,
            "left": null,
            "margin": null,
            "max_height": null,
            "max_width": null,
            "min_height": null,
            "min_width": null,
            "object_fit": null,
            "object_position": null,
            "order": null,
            "overflow": null,
            "overflow_x": null,
            "overflow_y": null,
            "padding": null,
            "right": null,
            "top": null,
            "visibility": null,
            "width": null
          }
        },
        "4e9ffff4aef74f7eaf9379cda1d06e4c": {
          "model_module": "@jupyter-widgets/controls",
          "model_name": "DescriptionStyleModel",
          "model_module_version": "1.5.0",
          "state": {
            "_model_module": "@jupyter-widgets/controls",
            "_model_module_version": "1.5.0",
            "_model_name": "DescriptionStyleModel",
            "_view_count": null,
            "_view_module": "@jupyter-widgets/base",
            "_view_module_version": "1.2.0",
            "_view_name": "StyleView",
            "description_width": ""
          }
        },
        "feda58b579334cd0bd7b66d87d4b7fb7": {
          "model_module": "@jupyter-widgets/controls",
          "model_name": "HBoxModel",
          "model_module_version": "1.5.0",
          "state": {
            "_dom_classes": [],
            "_model_module": "@jupyter-widgets/controls",
            "_model_module_version": "1.5.0",
            "_model_name": "HBoxModel",
            "_view_count": null,
            "_view_module": "@jupyter-widgets/controls",
            "_view_module_version": "1.5.0",
            "_view_name": "HBoxView",
            "box_style": "",
            "children": [
              "IPY_MODEL_5f56f56f366045b995680d12c82d0c48",
              "IPY_MODEL_6eaffafac3d546c79b8ce4870fcc65b4",
              "IPY_MODEL_4fd75dd0badb417da2c1a1e7bfeeab71"
            ],
            "layout": "IPY_MODEL_f63ce11406cb4f458c3bb51308ad8f40"
          }
        },
        "5f56f56f366045b995680d12c82d0c48": {
          "model_module": "@jupyter-widgets/controls",
          "model_name": "HTMLModel",
          "model_module_version": "1.5.0",
          "state": {
            "_dom_classes": [],
            "_model_module": "@jupyter-widgets/controls",
            "_model_module_version": "1.5.0",
            "_model_name": "HTMLModel",
            "_view_count": null,
            "_view_module": "@jupyter-widgets/controls",
            "_view_module_version": "1.5.0",
            "_view_name": "HTMLView",
            "description": "",
            "description_tooltip": null,
            "layout": "IPY_MODEL_d8bf8956e2b54918bd215b2c24559abe",
            "placeholder": "​",
            "style": "IPY_MODEL_4dfeb96eafb34b2487b402f069849da6",
            "value": ""
          }
        },
        "6eaffafac3d546c79b8ce4870fcc65b4": {
          "model_module": "@jupyter-widgets/controls",
          "model_name": "FloatProgressModel",
          "model_module_version": "1.5.0",
          "state": {
            "_dom_classes": [],
            "_model_module": "@jupyter-widgets/controls",
            "_model_module_version": "1.5.0",
            "_model_name": "FloatProgressModel",
            "_view_count": null,
            "_view_module": "@jupyter-widgets/controls",
            "_view_module_version": "1.5.0",
            "_view_name": "ProgressView",
            "bar_style": "success",
            "description": "",
            "description_tooltip": null,
            "layout": "IPY_MODEL_083bf5c5ce974899a7cd08bb926e831d",
            "max": 28881,
            "min": 0,
            "orientation": "horizontal",
            "style": "IPY_MODEL_05332c2c17144566aba0d5495d3d0944",
            "value": 28881
          }
        },
        "4fd75dd0badb417da2c1a1e7bfeeab71": {
          "model_module": "@jupyter-widgets/controls",
          "model_name": "HTMLModel",
          "model_module_version": "1.5.0",
          "state": {
            "_dom_classes": [],
            "_model_module": "@jupyter-widgets/controls",
            "_model_module_version": "1.5.0",
            "_model_name": "HTMLModel",
            "_view_count": null,
            "_view_module": "@jupyter-widgets/controls",
            "_view_module_version": "1.5.0",
            "_view_name": "HTMLView",
            "description": "",
            "description_tooltip": null,
            "layout": "IPY_MODEL_7e048ce8608b412cb2ed059fec921696",
            "placeholder": "​",
            "style": "IPY_MODEL_3de76ce0c8b34635b66983dcaed6f488",
            "value": " 29696/? [00:00&lt;00:00, 907788.67it/s]"
          }
        },
        "f63ce11406cb4f458c3bb51308ad8f40": {
          "model_module": "@jupyter-widgets/base",
          "model_name": "LayoutModel",
          "model_module_version": "1.2.0",
          "state": {
            "_model_module": "@jupyter-widgets/base",
            "_model_module_version": "1.2.0",
            "_model_name": "LayoutModel",
            "_view_count": null,
            "_view_module": "@jupyter-widgets/base",
            "_view_module_version": "1.2.0",
            "_view_name": "LayoutView",
            "align_content": null,
            "align_items": null,
            "align_self": null,
            "border": null,
            "bottom": null,
            "display": null,
            "flex": null,
            "flex_flow": null,
            "grid_area": null,
            "grid_auto_columns": null,
            "grid_auto_flow": null,
            "grid_auto_rows": null,
            "grid_column": null,
            "grid_gap": null,
            "grid_row": null,
            "grid_template_areas": null,
            "grid_template_columns": null,
            "grid_template_rows": null,
            "height": null,
            "justify_content": null,
            "justify_items": null,
            "left": null,
            "margin": null,
            "max_height": null,
            "max_width": null,
            "min_height": null,
            "min_width": null,
            "object_fit": null,
            "object_position": null,
            "order": null,
            "overflow": null,
            "overflow_x": null,
            "overflow_y": null,
            "padding": null,
            "right": null,
            "top": null,
            "visibility": null,
            "width": null
          }
        },
        "d8bf8956e2b54918bd215b2c24559abe": {
          "model_module": "@jupyter-widgets/base",
          "model_name": "LayoutModel",
          "model_module_version": "1.2.0",
          "state": {
            "_model_module": "@jupyter-widgets/base",
            "_model_module_version": "1.2.0",
            "_model_name": "LayoutModel",
            "_view_count": null,
            "_view_module": "@jupyter-widgets/base",
            "_view_module_version": "1.2.0",
            "_view_name": "LayoutView",
            "align_content": null,
            "align_items": null,
            "align_self": null,
            "border": null,
            "bottom": null,
            "display": null,
            "flex": null,
            "flex_flow": null,
            "grid_area": null,
            "grid_auto_columns": null,
            "grid_auto_flow": null,
            "grid_auto_rows": null,
            "grid_column": null,
            "grid_gap": null,
            "grid_row": null,
            "grid_template_areas": null,
            "grid_template_columns": null,
            "grid_template_rows": null,
            "height": null,
            "justify_content": null,
            "justify_items": null,
            "left": null,
            "margin": null,
            "max_height": null,
            "max_width": null,
            "min_height": null,
            "min_width": null,
            "object_fit": null,
            "object_position": null,
            "order": null,
            "overflow": null,
            "overflow_x": null,
            "overflow_y": null,
            "padding": null,
            "right": null,
            "top": null,
            "visibility": null,
            "width": null
          }
        },
        "4dfeb96eafb34b2487b402f069849da6": {
          "model_module": "@jupyter-widgets/controls",
          "model_name": "DescriptionStyleModel",
          "model_module_version": "1.5.0",
          "state": {
            "_model_module": "@jupyter-widgets/controls",
            "_model_module_version": "1.5.0",
            "_model_name": "DescriptionStyleModel",
            "_view_count": null,
            "_view_module": "@jupyter-widgets/base",
            "_view_module_version": "1.2.0",
            "_view_name": "StyleView",
            "description_width": ""
          }
        },
        "083bf5c5ce974899a7cd08bb926e831d": {
          "model_module": "@jupyter-widgets/base",
          "model_name": "LayoutModel",
          "model_module_version": "1.2.0",
          "state": {
            "_model_module": "@jupyter-widgets/base",
            "_model_module_version": "1.2.0",
            "_model_name": "LayoutModel",
            "_view_count": null,
            "_view_module": "@jupyter-widgets/base",
            "_view_module_version": "1.2.0",
            "_view_name": "LayoutView",
            "align_content": null,
            "align_items": null,
            "align_self": null,
            "border": null,
            "bottom": null,
            "display": null,
            "flex": null,
            "flex_flow": null,
            "grid_area": null,
            "grid_auto_columns": null,
            "grid_auto_flow": null,
            "grid_auto_rows": null,
            "grid_column": null,
            "grid_gap": null,
            "grid_row": null,
            "grid_template_areas": null,
            "grid_template_columns": null,
            "grid_template_rows": null,
            "height": null,
            "justify_content": null,
            "justify_items": null,
            "left": null,
            "margin": null,
            "max_height": null,
            "max_width": null,
            "min_height": null,
            "min_width": null,
            "object_fit": null,
            "object_position": null,
            "order": null,
            "overflow": null,
            "overflow_x": null,
            "overflow_y": null,
            "padding": null,
            "right": null,
            "top": null,
            "visibility": null,
            "width": null
          }
        },
        "05332c2c17144566aba0d5495d3d0944": {
          "model_module": "@jupyter-widgets/controls",
          "model_name": "ProgressStyleModel",
          "model_module_version": "1.5.0",
          "state": {
            "_model_module": "@jupyter-widgets/controls",
            "_model_module_version": "1.5.0",
            "_model_name": "ProgressStyleModel",
            "_view_count": null,
            "_view_module": "@jupyter-widgets/base",
            "_view_module_version": "1.2.0",
            "_view_name": "StyleView",
            "bar_color": null,
            "description_width": ""
          }
        },
        "7e048ce8608b412cb2ed059fec921696": {
          "model_module": "@jupyter-widgets/base",
          "model_name": "LayoutModel",
          "model_module_version": "1.2.0",
          "state": {
            "_model_module": "@jupyter-widgets/base",
            "_model_module_version": "1.2.0",
            "_model_name": "LayoutModel",
            "_view_count": null,
            "_view_module": "@jupyter-widgets/base",
            "_view_module_version": "1.2.0",
            "_view_name": "LayoutView",
            "align_content": null,
            "align_items": null,
            "align_self": null,
            "border": null,
            "bottom": null,
            "display": null,
            "flex": null,
            "flex_flow": null,
            "grid_area": null,
            "grid_auto_columns": null,
            "grid_auto_flow": null,
            "grid_auto_rows": null,
            "grid_column": null,
            "grid_gap": null,
            "grid_row": null,
            "grid_template_areas": null,
            "grid_template_columns": null,
            "grid_template_rows": null,
            "height": null,
            "justify_content": null,
            "justify_items": null,
            "left": null,
            "margin": null,
            "max_height": null,
            "max_width": null,
            "min_height": null,
            "min_width": null,
            "object_fit": null,
            "object_position": null,
            "order": null,
            "overflow": null,
            "overflow_x": null,
            "overflow_y": null,
            "padding": null,
            "right": null,
            "top": null,
            "visibility": null,
            "width": null
          }
        },
        "3de76ce0c8b34635b66983dcaed6f488": {
          "model_module": "@jupyter-widgets/controls",
          "model_name": "DescriptionStyleModel",
          "model_module_version": "1.5.0",
          "state": {
            "_model_module": "@jupyter-widgets/controls",
            "_model_module_version": "1.5.0",
            "_model_name": "DescriptionStyleModel",
            "_view_count": null,
            "_view_module": "@jupyter-widgets/base",
            "_view_module_version": "1.2.0",
            "_view_name": "StyleView",
            "description_width": ""
          }
        },
        "f8a0e964d09c42baa3601caecfd21a08": {
          "model_module": "@jupyter-widgets/controls",
          "model_name": "HBoxModel",
          "model_module_version": "1.5.0",
          "state": {
            "_dom_classes": [],
            "_model_module": "@jupyter-widgets/controls",
            "_model_module_version": "1.5.0",
            "_model_name": "HBoxModel",
            "_view_count": null,
            "_view_module": "@jupyter-widgets/controls",
            "_view_module_version": "1.5.0",
            "_view_name": "HBoxView",
            "box_style": "",
            "children": [
              "IPY_MODEL_5cf38be2eb6d49e3a1e450a982301c41",
              "IPY_MODEL_3c6fe5bc9f7a43df998529873feb2012",
              "IPY_MODEL_40be1c3e680f4c2a879e02b850bf8f89"
            ],
            "layout": "IPY_MODEL_ddd04046135448ec9d5603f21dfde63c"
          }
        },
        "5cf38be2eb6d49e3a1e450a982301c41": {
          "model_module": "@jupyter-widgets/controls",
          "model_name": "HTMLModel",
          "model_module_version": "1.5.0",
          "state": {
            "_dom_classes": [],
            "_model_module": "@jupyter-widgets/controls",
            "_model_module_version": "1.5.0",
            "_model_name": "HTMLModel",
            "_view_count": null,
            "_view_module": "@jupyter-widgets/controls",
            "_view_module_version": "1.5.0",
            "_view_name": "HTMLView",
            "description": "",
            "description_tooltip": null,
            "layout": "IPY_MODEL_c2b9bf6b40a14f12900f1729c8193c6d",
            "placeholder": "​",
            "style": "IPY_MODEL_13c8fd2c315544d5a17589ae2f32b3bc",
            "value": ""
          }
        },
        "3c6fe5bc9f7a43df998529873feb2012": {
          "model_module": "@jupyter-widgets/controls",
          "model_name": "FloatProgressModel",
          "model_module_version": "1.5.0",
          "state": {
            "_dom_classes": [],
            "_model_module": "@jupyter-widgets/controls",
            "_model_module_version": "1.5.0",
            "_model_name": "FloatProgressModel",
            "_view_count": null,
            "_view_module": "@jupyter-widgets/controls",
            "_view_module_version": "1.5.0",
            "_view_name": "ProgressView",
            "bar_style": "success",
            "description": "",
            "description_tooltip": null,
            "layout": "IPY_MODEL_e10924eb32ba415b9f1956fa00b979da",
            "max": 1648877,
            "min": 0,
            "orientation": "horizontal",
            "style": "IPY_MODEL_25f5291ee55e42abb3db71845b0a191e",
            "value": 1648877
          }
        },
        "40be1c3e680f4c2a879e02b850bf8f89": {
          "model_module": "@jupyter-widgets/controls",
          "model_name": "HTMLModel",
          "model_module_version": "1.5.0",
          "state": {
            "_dom_classes": [],
            "_model_module": "@jupyter-widgets/controls",
            "_model_module_version": "1.5.0",
            "_model_name": "HTMLModel",
            "_view_count": null,
            "_view_module": "@jupyter-widgets/controls",
            "_view_module_version": "1.5.0",
            "_view_name": "HTMLView",
            "description": "",
            "description_tooltip": null,
            "layout": "IPY_MODEL_ff4fd86df5c54091aac4275712aad7f0",
            "placeholder": "​",
            "style": "IPY_MODEL_708b67cc16c74f9bb05abaf616ca69e7",
            "value": " 1649664/? [00:00&lt;00:00, 31737084.96it/s]"
          }
        },
        "ddd04046135448ec9d5603f21dfde63c": {
          "model_module": "@jupyter-widgets/base",
          "model_name": "LayoutModel",
          "model_module_version": "1.2.0",
          "state": {
            "_model_module": "@jupyter-widgets/base",
            "_model_module_version": "1.2.0",
            "_model_name": "LayoutModel",
            "_view_count": null,
            "_view_module": "@jupyter-widgets/base",
            "_view_module_version": "1.2.0",
            "_view_name": "LayoutView",
            "align_content": null,
            "align_items": null,
            "align_self": null,
            "border": null,
            "bottom": null,
            "display": null,
            "flex": null,
            "flex_flow": null,
            "grid_area": null,
            "grid_auto_columns": null,
            "grid_auto_flow": null,
            "grid_auto_rows": null,
            "grid_column": null,
            "grid_gap": null,
            "grid_row": null,
            "grid_template_areas": null,
            "grid_template_columns": null,
            "grid_template_rows": null,
            "height": null,
            "justify_content": null,
            "justify_items": null,
            "left": null,
            "margin": null,
            "max_height": null,
            "max_width": null,
            "min_height": null,
            "min_width": null,
            "object_fit": null,
            "object_position": null,
            "order": null,
            "overflow": null,
            "overflow_x": null,
            "overflow_y": null,
            "padding": null,
            "right": null,
            "top": null,
            "visibility": null,
            "width": null
          }
        },
        "c2b9bf6b40a14f12900f1729c8193c6d": {
          "model_module": "@jupyter-widgets/base",
          "model_name": "LayoutModel",
          "model_module_version": "1.2.0",
          "state": {
            "_model_module": "@jupyter-widgets/base",
            "_model_module_version": "1.2.0",
            "_model_name": "LayoutModel",
            "_view_count": null,
            "_view_module": "@jupyter-widgets/base",
            "_view_module_version": "1.2.0",
            "_view_name": "LayoutView",
            "align_content": null,
            "align_items": null,
            "align_self": null,
            "border": null,
            "bottom": null,
            "display": null,
            "flex": null,
            "flex_flow": null,
            "grid_area": null,
            "grid_auto_columns": null,
            "grid_auto_flow": null,
            "grid_auto_rows": null,
            "grid_column": null,
            "grid_gap": null,
            "grid_row": null,
            "grid_template_areas": null,
            "grid_template_columns": null,
            "grid_template_rows": null,
            "height": null,
            "justify_content": null,
            "justify_items": null,
            "left": null,
            "margin": null,
            "max_height": null,
            "max_width": null,
            "min_height": null,
            "min_width": null,
            "object_fit": null,
            "object_position": null,
            "order": null,
            "overflow": null,
            "overflow_x": null,
            "overflow_y": null,
            "padding": null,
            "right": null,
            "top": null,
            "visibility": null,
            "width": null
          }
        },
        "13c8fd2c315544d5a17589ae2f32b3bc": {
          "model_module": "@jupyter-widgets/controls",
          "model_name": "DescriptionStyleModel",
          "model_module_version": "1.5.0",
          "state": {
            "_model_module": "@jupyter-widgets/controls",
            "_model_module_version": "1.5.0",
            "_model_name": "DescriptionStyleModel",
            "_view_count": null,
            "_view_module": "@jupyter-widgets/base",
            "_view_module_version": "1.2.0",
            "_view_name": "StyleView",
            "description_width": ""
          }
        },
        "e10924eb32ba415b9f1956fa00b979da": {
          "model_module": "@jupyter-widgets/base",
          "model_name": "LayoutModel",
          "model_module_version": "1.2.0",
          "state": {
            "_model_module": "@jupyter-widgets/base",
            "_model_module_version": "1.2.0",
            "_model_name": "LayoutModel",
            "_view_count": null,
            "_view_module": "@jupyter-widgets/base",
            "_view_module_version": "1.2.0",
            "_view_name": "LayoutView",
            "align_content": null,
            "align_items": null,
            "align_self": null,
            "border": null,
            "bottom": null,
            "display": null,
            "flex": null,
            "flex_flow": null,
            "grid_area": null,
            "grid_auto_columns": null,
            "grid_auto_flow": null,
            "grid_auto_rows": null,
            "grid_column": null,
            "grid_gap": null,
            "grid_row": null,
            "grid_template_areas": null,
            "grid_template_columns": null,
            "grid_template_rows": null,
            "height": null,
            "justify_content": null,
            "justify_items": null,
            "left": null,
            "margin": null,
            "max_height": null,
            "max_width": null,
            "min_height": null,
            "min_width": null,
            "object_fit": null,
            "object_position": null,
            "order": null,
            "overflow": null,
            "overflow_x": null,
            "overflow_y": null,
            "padding": null,
            "right": null,
            "top": null,
            "visibility": null,
            "width": null
          }
        },
        "25f5291ee55e42abb3db71845b0a191e": {
          "model_module": "@jupyter-widgets/controls",
          "model_name": "ProgressStyleModel",
          "model_module_version": "1.5.0",
          "state": {
            "_model_module": "@jupyter-widgets/controls",
            "_model_module_version": "1.5.0",
            "_model_name": "ProgressStyleModel",
            "_view_count": null,
            "_view_module": "@jupyter-widgets/base",
            "_view_module_version": "1.2.0",
            "_view_name": "StyleView",
            "bar_color": null,
            "description_width": ""
          }
        },
        "ff4fd86df5c54091aac4275712aad7f0": {
          "model_module": "@jupyter-widgets/base",
          "model_name": "LayoutModel",
          "model_module_version": "1.2.0",
          "state": {
            "_model_module": "@jupyter-widgets/base",
            "_model_module_version": "1.2.0",
            "_model_name": "LayoutModel",
            "_view_count": null,
            "_view_module": "@jupyter-widgets/base",
            "_view_module_version": "1.2.0",
            "_view_name": "LayoutView",
            "align_content": null,
            "align_items": null,
            "align_self": null,
            "border": null,
            "bottom": null,
            "display": null,
            "flex": null,
            "flex_flow": null,
            "grid_area": null,
            "grid_auto_columns": null,
            "grid_auto_flow": null,
            "grid_auto_rows": null,
            "grid_column": null,
            "grid_gap": null,
            "grid_row": null,
            "grid_template_areas": null,
            "grid_template_columns": null,
            "grid_template_rows": null,
            "height": null,
            "justify_content": null,
            "justify_items": null,
            "left": null,
            "margin": null,
            "max_height": null,
            "max_width": null,
            "min_height": null,
            "min_width": null,
            "object_fit": null,
            "object_position": null,
            "order": null,
            "overflow": null,
            "overflow_x": null,
            "overflow_y": null,
            "padding": null,
            "right": null,
            "top": null,
            "visibility": null,
            "width": null
          }
        },
        "708b67cc16c74f9bb05abaf616ca69e7": {
          "model_module": "@jupyter-widgets/controls",
          "model_name": "DescriptionStyleModel",
          "model_module_version": "1.5.0",
          "state": {
            "_model_module": "@jupyter-widgets/controls",
            "_model_module_version": "1.5.0",
            "_model_name": "DescriptionStyleModel",
            "_view_count": null,
            "_view_module": "@jupyter-widgets/base",
            "_view_module_version": "1.2.0",
            "_view_name": "StyleView",
            "description_width": ""
          }
        },
        "c49c8068ade94696a8887157da6a482e": {
          "model_module": "@jupyter-widgets/controls",
          "model_name": "HBoxModel",
          "model_module_version": "1.5.0",
          "state": {
            "_dom_classes": [],
            "_model_module": "@jupyter-widgets/controls",
            "_model_module_version": "1.5.0",
            "_model_name": "HBoxModel",
            "_view_count": null,
            "_view_module": "@jupyter-widgets/controls",
            "_view_module_version": "1.5.0",
            "_view_name": "HBoxView",
            "box_style": "",
            "children": [
              "IPY_MODEL_82c9f9bee1ea4f5ebe3730ee20e9ca26",
              "IPY_MODEL_e979dc1eb97244018f63e7c75295dd6d",
              "IPY_MODEL_b6ae53d731db4c7ab5453607b207470e"
            ],
            "layout": "IPY_MODEL_259c03d04ccd44a2b85fcda00201831b"
          }
        },
        "82c9f9bee1ea4f5ebe3730ee20e9ca26": {
          "model_module": "@jupyter-widgets/controls",
          "model_name": "HTMLModel",
          "model_module_version": "1.5.0",
          "state": {
            "_dom_classes": [],
            "_model_module": "@jupyter-widgets/controls",
            "_model_module_version": "1.5.0",
            "_model_name": "HTMLModel",
            "_view_count": null,
            "_view_module": "@jupyter-widgets/controls",
            "_view_module_version": "1.5.0",
            "_view_name": "HTMLView",
            "description": "",
            "description_tooltip": null,
            "layout": "IPY_MODEL_2155fdcdaa9e4292bbe9876884584532",
            "placeholder": "​",
            "style": "IPY_MODEL_03dbbcdc883442cb9440a45d01b836e7",
            "value": ""
          }
        },
        "e979dc1eb97244018f63e7c75295dd6d": {
          "model_module": "@jupyter-widgets/controls",
          "model_name": "FloatProgressModel",
          "model_module_version": "1.5.0",
          "state": {
            "_dom_classes": [],
            "_model_module": "@jupyter-widgets/controls",
            "_model_module_version": "1.5.0",
            "_model_name": "FloatProgressModel",
            "_view_count": null,
            "_view_module": "@jupyter-widgets/controls",
            "_view_module_version": "1.5.0",
            "_view_name": "ProgressView",
            "bar_style": "success",
            "description": "",
            "description_tooltip": null,
            "layout": "IPY_MODEL_bfc118653415435dafc47c6b06005487",
            "max": 4542,
            "min": 0,
            "orientation": "horizontal",
            "style": "IPY_MODEL_77618ec3647d485a8fb4d107eef70de7",
            "value": 4542
          }
        },
        "b6ae53d731db4c7ab5453607b207470e": {
          "model_module": "@jupyter-widgets/controls",
          "model_name": "HTMLModel",
          "model_module_version": "1.5.0",
          "state": {
            "_dom_classes": [],
            "_model_module": "@jupyter-widgets/controls",
            "_model_module_version": "1.5.0",
            "_model_name": "HTMLModel",
            "_view_count": null,
            "_view_module": "@jupyter-widgets/controls",
            "_view_module_version": "1.5.0",
            "_view_name": "HTMLView",
            "description": "",
            "description_tooltip": null,
            "layout": "IPY_MODEL_4b8e85f533294f28bced50fc52336469",
            "placeholder": "​",
            "style": "IPY_MODEL_7d9f1bd17f4343d7a08f0c08a71b7f62",
            "value": " 5120/? [00:00&lt;00:00, 174092.54it/s]"
          }
        },
        "259c03d04ccd44a2b85fcda00201831b": {
          "model_module": "@jupyter-widgets/base",
          "model_name": "LayoutModel",
          "model_module_version": "1.2.0",
          "state": {
            "_model_module": "@jupyter-widgets/base",
            "_model_module_version": "1.2.0",
            "_model_name": "LayoutModel",
            "_view_count": null,
            "_view_module": "@jupyter-widgets/base",
            "_view_module_version": "1.2.0",
            "_view_name": "LayoutView",
            "align_content": null,
            "align_items": null,
            "align_self": null,
            "border": null,
            "bottom": null,
            "display": null,
            "flex": null,
            "flex_flow": null,
            "grid_area": null,
            "grid_auto_columns": null,
            "grid_auto_flow": null,
            "grid_auto_rows": null,
            "grid_column": null,
            "grid_gap": null,
            "grid_row": null,
            "grid_template_areas": null,
            "grid_template_columns": null,
            "grid_template_rows": null,
            "height": null,
            "justify_content": null,
            "justify_items": null,
            "left": null,
            "margin": null,
            "max_height": null,
            "max_width": null,
            "min_height": null,
            "min_width": null,
            "object_fit": null,
            "object_position": null,
            "order": null,
            "overflow": null,
            "overflow_x": null,
            "overflow_y": null,
            "padding": null,
            "right": null,
            "top": null,
            "visibility": null,
            "width": null
          }
        },
        "2155fdcdaa9e4292bbe9876884584532": {
          "model_module": "@jupyter-widgets/base",
          "model_name": "LayoutModel",
          "model_module_version": "1.2.0",
          "state": {
            "_model_module": "@jupyter-widgets/base",
            "_model_module_version": "1.2.0",
            "_model_name": "LayoutModel",
            "_view_count": null,
            "_view_module": "@jupyter-widgets/base",
            "_view_module_version": "1.2.0",
            "_view_name": "LayoutView",
            "align_content": null,
            "align_items": null,
            "align_self": null,
            "border": null,
            "bottom": null,
            "display": null,
            "flex": null,
            "flex_flow": null,
            "grid_area": null,
            "grid_auto_columns": null,
            "grid_auto_flow": null,
            "grid_auto_rows": null,
            "grid_column": null,
            "grid_gap": null,
            "grid_row": null,
            "grid_template_areas": null,
            "grid_template_columns": null,
            "grid_template_rows": null,
            "height": null,
            "justify_content": null,
            "justify_items": null,
            "left": null,
            "margin": null,
            "max_height": null,
            "max_width": null,
            "min_height": null,
            "min_width": null,
            "object_fit": null,
            "object_position": null,
            "order": null,
            "overflow": null,
            "overflow_x": null,
            "overflow_y": null,
            "padding": null,
            "right": null,
            "top": null,
            "visibility": null,
            "width": null
          }
        },
        "03dbbcdc883442cb9440a45d01b836e7": {
          "model_module": "@jupyter-widgets/controls",
          "model_name": "DescriptionStyleModel",
          "model_module_version": "1.5.0",
          "state": {
            "_model_module": "@jupyter-widgets/controls",
            "_model_module_version": "1.5.0",
            "_model_name": "DescriptionStyleModel",
            "_view_count": null,
            "_view_module": "@jupyter-widgets/base",
            "_view_module_version": "1.2.0",
            "_view_name": "StyleView",
            "description_width": ""
          }
        },
        "bfc118653415435dafc47c6b06005487": {
          "model_module": "@jupyter-widgets/base",
          "model_name": "LayoutModel",
          "model_module_version": "1.2.0",
          "state": {
            "_model_module": "@jupyter-widgets/base",
            "_model_module_version": "1.2.0",
            "_model_name": "LayoutModel",
            "_view_count": null,
            "_view_module": "@jupyter-widgets/base",
            "_view_module_version": "1.2.0",
            "_view_name": "LayoutView",
            "align_content": null,
            "align_items": null,
            "align_self": null,
            "border": null,
            "bottom": null,
            "display": null,
            "flex": null,
            "flex_flow": null,
            "grid_area": null,
            "grid_auto_columns": null,
            "grid_auto_flow": null,
            "grid_auto_rows": null,
            "grid_column": null,
            "grid_gap": null,
            "grid_row": null,
            "grid_template_areas": null,
            "grid_template_columns": null,
            "grid_template_rows": null,
            "height": null,
            "justify_content": null,
            "justify_items": null,
            "left": null,
            "margin": null,
            "max_height": null,
            "max_width": null,
            "min_height": null,
            "min_width": null,
            "object_fit": null,
            "object_position": null,
            "order": null,
            "overflow": null,
            "overflow_x": null,
            "overflow_y": null,
            "padding": null,
            "right": null,
            "top": null,
            "visibility": null,
            "width": null
          }
        },
        "77618ec3647d485a8fb4d107eef70de7": {
          "model_module": "@jupyter-widgets/controls",
          "model_name": "ProgressStyleModel",
          "model_module_version": "1.5.0",
          "state": {
            "_model_module": "@jupyter-widgets/controls",
            "_model_module_version": "1.5.0",
            "_model_name": "ProgressStyleModel",
            "_view_count": null,
            "_view_module": "@jupyter-widgets/base",
            "_view_module_version": "1.2.0",
            "_view_name": "StyleView",
            "bar_color": null,
            "description_width": ""
          }
        },
        "4b8e85f533294f28bced50fc52336469": {
          "model_module": "@jupyter-widgets/base",
          "model_name": "LayoutModel",
          "model_module_version": "1.2.0",
          "state": {
            "_model_module": "@jupyter-widgets/base",
            "_model_module_version": "1.2.0",
            "_model_name": "LayoutModel",
            "_view_count": null,
            "_view_module": "@jupyter-widgets/base",
            "_view_module_version": "1.2.0",
            "_view_name": "LayoutView",
            "align_content": null,
            "align_items": null,
            "align_self": null,
            "border": null,
            "bottom": null,
            "display": null,
            "flex": null,
            "flex_flow": null,
            "grid_area": null,
            "grid_auto_columns": null,
            "grid_auto_flow": null,
            "grid_auto_rows": null,
            "grid_column": null,
            "grid_gap": null,
            "grid_row": null,
            "grid_template_areas": null,
            "grid_template_columns": null,
            "grid_template_rows": null,
            "height": null,
            "justify_content": null,
            "justify_items": null,
            "left": null,
            "margin": null,
            "max_height": null,
            "max_width": null,
            "min_height": null,
            "min_width": null,
            "object_fit": null,
            "object_position": null,
            "order": null,
            "overflow": null,
            "overflow_x": null,
            "overflow_y": null,
            "padding": null,
            "right": null,
            "top": null,
            "visibility": null,
            "width": null
          }
        },
        "7d9f1bd17f4343d7a08f0c08a71b7f62": {
          "model_module": "@jupyter-widgets/controls",
          "model_name": "DescriptionStyleModel",
          "model_module_version": "1.5.0",
          "state": {
            "_model_module": "@jupyter-widgets/controls",
            "_model_module_version": "1.5.0",
            "_model_name": "DescriptionStyleModel",
            "_view_count": null,
            "_view_module": "@jupyter-widgets/base",
            "_view_module_version": "1.2.0",
            "_view_name": "StyleView",
            "description_width": ""
          }
        }
      }
    }
  },
  "cells": [
    {
      "cell_type": "markdown",
      "metadata": {
        "id": "view-in-github",
        "colab_type": "text"
      },
      "source": [
        "<a href=\"https://colab.research.google.com/github/Hou-jing/deep-learning_HW-liuxinfeng-teacher-/blob/main/%E6%89%8B%E5%86%99%E6%95%B0%E5%AD%97%E8%AF%86%E5%88%AB%E6%A8%A1%E5%9E%8B%E6%9E%B6%E6%9E%84%E4%B8%80.ipynb\" target=\"_parent\"><img src=\"https://colab.research.google.com/assets/colab-badge.svg\" alt=\"Open In Colab\"/></a>"
      ]
    },
    {
      "cell_type": "markdown",
      "source": [
        "### 设置环境"
      ],
      "metadata": {
        "id": "UUCC-ql9zico"
      }
    },
    {
      "cell_type": "code",
      "source": [
        "import torch\n",
        "import torchvision\n",
        "from torch.utils.data import DataLoader\n",
        "from torchsummary import summary"
      ],
      "metadata": {
        "id": "ptr7Dz-QziSW"
      },
      "execution_count": null,
      "outputs": []
    },
    {
      "cell_type": "markdown",
      "source": [
        "###参数设置"
      ],
      "metadata": {
        "id": "GpaPnb4RzwnS"
      }
    },
    {
      "cell_type": "code",
      "source": [
        "n_epochs = 8\n",
        "batch_size_train = 64\n",
        "batch_size_test = 1000\n",
        "learning_rate = 0.01\n",
        "momentum = 0.5\n",
        "log_interval = 100\n",
        "random_seed = 1\n",
        "torch.manual_seed(random_seed)"
      ],
      "metadata": {
        "colab": {
          "base_uri": "https://localhost:8080/"
        },
        "id": "qDv03w9tzvu_",
        "outputId": "efdcf72d-fbd0-42d4-855f-37a6e063bad6"
      },
      "execution_count": null,
      "outputs": [
        {
          "output_type": "execute_result",
          "data": {
            "text/plain": [
              "<torch._C.Generator at 0x7f67561a77d0>"
            ]
          },
          "metadata": {},
          "execution_count": 14
        }
      ]
    },
    {
      "cell_type": "markdown",
      "source": [
        "### 准备数据集"
      ],
      "metadata": {
        "id": "4fcp0xH7zjBS"
      }
    },
    {
      "cell_type": "code",
      "source": [
        "train_loader = torch.utils.data.DataLoader(\n",
        "torchvision.datasets.MNIST('./data/', train=True, download=True,\n",
        "                             transform=torchvision.transforms.Compose([\n",
        "                               torchvision.transforms.ToTensor(),\n",
        "                               torchvision.transforms.Normalize(\n",
        "                                 (0.1307,), (0.3081,))\n",
        "                             ])),\n",
        "batch_size=batch_size_train, shuffle=True)\n",
        "test_loader = torch.utils.data.DataLoader(\n",
        "torchvision.datasets.MNIST('./data/', train=False, download=True,\n",
        "                             transform=torchvision.transforms.Compose([\n",
        "                               torchvision.transforms.ToTensor(),\n",
        "                               torchvision.transforms.Normalize(\n",
        "                                 (0.1307,), (0.3081,))\n",
        "                             ])),\n",
        "  batch_size=batch_size_test, shuffle=True)"
      ],
      "metadata": {
        "colab": {
          "base_uri": "https://localhost:8080/",
          "height": 422,
          "referenced_widgets": [
            "8fdce20d20694a56950bce2d213bbfbb",
            "8e8f21c626c54818917194bc5b556a23",
            "f1ed61aacdbe4e01b8eadb5731d7a504",
            "c661b687d40c4c90af348454a5bb3029",
            "4155d54aaed944fabd6a4b98b25bd711",
            "e1294e2838444db0a4b4752eeec50de0",
            "ffad3a515fc04b00940aa672d6223c67",
            "0fb04a772ef449d9ab5cedcafd3d7d92",
            "7ba818d04d7449449f76654f02c5eb2e",
            "32c4facaebd742f3bc144eb08cc02fc1",
            "4e9ffff4aef74f7eaf9379cda1d06e4c",
            "feda58b579334cd0bd7b66d87d4b7fb7",
            "5f56f56f366045b995680d12c82d0c48",
            "6eaffafac3d546c79b8ce4870fcc65b4",
            "4fd75dd0badb417da2c1a1e7bfeeab71",
            "f63ce11406cb4f458c3bb51308ad8f40",
            "d8bf8956e2b54918bd215b2c24559abe",
            "4dfeb96eafb34b2487b402f069849da6",
            "083bf5c5ce974899a7cd08bb926e831d",
            "05332c2c17144566aba0d5495d3d0944",
            "7e048ce8608b412cb2ed059fec921696",
            "3de76ce0c8b34635b66983dcaed6f488",
            "f8a0e964d09c42baa3601caecfd21a08",
            "5cf38be2eb6d49e3a1e450a982301c41",
            "3c6fe5bc9f7a43df998529873feb2012",
            "40be1c3e680f4c2a879e02b850bf8f89",
            "ddd04046135448ec9d5603f21dfde63c",
            "c2b9bf6b40a14f12900f1729c8193c6d",
            "13c8fd2c315544d5a17589ae2f32b3bc",
            "e10924eb32ba415b9f1956fa00b979da",
            "25f5291ee55e42abb3db71845b0a191e",
            "ff4fd86df5c54091aac4275712aad7f0",
            "708b67cc16c74f9bb05abaf616ca69e7",
            "c49c8068ade94696a8887157da6a482e",
            "82c9f9bee1ea4f5ebe3730ee20e9ca26",
            "e979dc1eb97244018f63e7c75295dd6d",
            "b6ae53d731db4c7ab5453607b207470e",
            "259c03d04ccd44a2b85fcda00201831b",
            "2155fdcdaa9e4292bbe9876884584532",
            "03dbbcdc883442cb9440a45d01b836e7",
            "bfc118653415435dafc47c6b06005487",
            "77618ec3647d485a8fb4d107eef70de7",
            "4b8e85f533294f28bced50fc52336469",
            "7d9f1bd17f4343d7a08f0c08a71b7f62"
          ]
        },
        "id": "1hzqF-LXzpy2",
        "outputId": "a76c0f88-049d-4c6f-cafa-5d477f753f11"
      },
      "execution_count": null,
      "outputs": [
        {
          "output_type": "stream",
          "name": "stdout",
          "text": [
            "Downloading http://yann.lecun.com/exdb/mnist/train-images-idx3-ubyte.gz\n",
            "Downloading http://yann.lecun.com/exdb/mnist/train-images-idx3-ubyte.gz to ./data/MNIST/raw/train-images-idx3-ubyte.gz\n"
          ]
        },
        {
          "output_type": "display_data",
          "data": {
            "text/plain": [
              "  0%|          | 0/9912422 [00:00<?, ?it/s]"
            ],
            "application/vnd.jupyter.widget-view+json": {
              "version_major": 2,
              "version_minor": 0,
              "model_id": "8fdce20d20694a56950bce2d213bbfbb"
            }
          },
          "metadata": {}
        },
        {
          "output_type": "stream",
          "name": "stdout",
          "text": [
            "Extracting ./data/MNIST/raw/train-images-idx3-ubyte.gz to ./data/MNIST/raw\n",
            "\n",
            "Downloading http://yann.lecun.com/exdb/mnist/train-labels-idx1-ubyte.gz\n",
            "Downloading http://yann.lecun.com/exdb/mnist/train-labels-idx1-ubyte.gz to ./data/MNIST/raw/train-labels-idx1-ubyte.gz\n"
          ]
        },
        {
          "output_type": "display_data",
          "data": {
            "text/plain": [
              "  0%|          | 0/28881 [00:00<?, ?it/s]"
            ],
            "application/vnd.jupyter.widget-view+json": {
              "version_major": 2,
              "version_minor": 0,
              "model_id": "feda58b579334cd0bd7b66d87d4b7fb7"
            }
          },
          "metadata": {}
        },
        {
          "output_type": "stream",
          "name": "stdout",
          "text": [
            "Extracting ./data/MNIST/raw/train-labels-idx1-ubyte.gz to ./data/MNIST/raw\n",
            "\n",
            "Downloading http://yann.lecun.com/exdb/mnist/t10k-images-idx3-ubyte.gz\n",
            "Downloading http://yann.lecun.com/exdb/mnist/t10k-images-idx3-ubyte.gz to ./data/MNIST/raw/t10k-images-idx3-ubyte.gz\n"
          ]
        },
        {
          "output_type": "display_data",
          "data": {
            "text/plain": [
              "  0%|          | 0/1648877 [00:00<?, ?it/s]"
            ],
            "application/vnd.jupyter.widget-view+json": {
              "version_major": 2,
              "version_minor": 0,
              "model_id": "f8a0e964d09c42baa3601caecfd21a08"
            }
          },
          "metadata": {}
        },
        {
          "output_type": "stream",
          "name": "stdout",
          "text": [
            "Extracting ./data/MNIST/raw/t10k-images-idx3-ubyte.gz to ./data/MNIST/raw\n",
            "\n",
            "Downloading http://yann.lecun.com/exdb/mnist/t10k-labels-idx1-ubyte.gz\n",
            "Downloading http://yann.lecun.com/exdb/mnist/t10k-labels-idx1-ubyte.gz to ./data/MNIST/raw/t10k-labels-idx1-ubyte.gz\n"
          ]
        },
        {
          "output_type": "display_data",
          "data": {
            "text/plain": [
              "  0%|          | 0/4542 [00:00<?, ?it/s]"
            ],
            "application/vnd.jupyter.widget-view+json": {
              "version_major": 2,
              "version_minor": 0,
              "model_id": "c49c8068ade94696a8887157da6a482e"
            }
          },
          "metadata": {}
        },
        {
          "output_type": "stream",
          "name": "stdout",
          "text": [
            "Extracting ./data/MNIST/raw/t10k-labels-idx1-ubyte.gz to ./data/MNIST/raw\n",
            "\n"
          ]
        }
      ]
    },
    {
      "cell_type": "markdown",
      "source": [
        "### 测试数据查看"
      ],
      "metadata": {
        "id": "HQ2jpDR40GID"
      }
    },
    {
      "cell_type": "code",
      "source": [
        "examples = enumerate(test_loader)\n",
        "batch_idx, (example_data, example_targets) = next(examples)\n",
        "print(example_targets)\n",
        "print(example_data.shape)"
      ],
      "metadata": {
        "id": "q3wQYqOLzp1E"
      },
      "execution_count": null,
      "outputs": []
    },
    {
      "cell_type": "code",
      "source": [
        "import matplotlib.pyplot as plt\n",
        "fig = plt.figure()\n",
        "for i in range(6):\n",
        "  plt.subplot(2,3,i+1)\n",
        "  plt.tight_layout()\n",
        "  plt.imshow(example_data[i][0], cmap='gray', interpolation='none')\n",
        "  plt.title(\"Ground Truth: {}\".format(example_targets[i]))\n",
        "  plt.xticks([])\n",
        "  plt.yticks([])\n",
        "plt.show()"
      ],
      "metadata": {
        "colab": {
          "base_uri": "https://localhost:8080/",
          "height": 284
        },
        "id": "qKC1BgHKzp3S",
        "outputId": "0493292b-7162-4b47-901c-6c832e0d40c3"
      },
      "execution_count": null,
      "outputs": [
        {
          "output_type": "display_data",
          "data": {
            "text/plain": [
              "<Figure size 432x288 with 6 Axes>"
            ],
            "image/png": "[encoded data removed]"
          },
          "metadata": {}
        }
      ]
    },
    {
      "cell_type": "markdown",
      "source": [
        "### 构建网络一"
      ],
      "metadata": {
        "id": "uOmmF0nA0UwL"
      }
    },
    {
      "cell_type": "code",
      "source": [
        "import torch.nn as nn\n",
        "import torch.nn.functional as F\n",
        "import torch.optim as optim\n",
        "\n",
        "class Net(nn.Module):\n",
        "    def __init__(self):\n",
        "        super(Net, self).__init__()\n",
        "        self.conv1 = nn.Conv2d(1, 10, kernel_size=5)\n",
        "        self.conv2 = nn.Conv2d(10, 20, kernel_size=5)\n",
        "        self.conv2_drop = nn.Dropout2d()\n",
        "        self.fc1 = nn.Linear(320, 50)\n",
        "        self.fc2 = nn.Linear(50, 10)\n",
        "    def forward(self, x):\n",
        "        x = F.relu(F.max_pool2d(self.conv1(x), 2))\n",
        "        x = F.relu(F.max_pool2d(self.conv2_drop(self.conv2(x)), 2))\n",
        "        x = x.view(-1, 320)\n",
        "        x = F.relu(self.fc1(x))\n",
        "        x = F.dropout(x, training=self.training)\n",
        "        x = self.fc2(x)\n",
        "        return F.log_softmax(x)"
      ],
      "metadata": {
        "id": "AVNGpWBFzp5i"
      },
      "execution_count": null,
      "outputs": []
    },
    {
      "cell_type": "markdown",
      "source": [
        "### 构建网络模型二"
      ],
      "metadata": {
        "id": "zBGHtOygRydc"
      }
    },
    {
      "cell_type": "code",
      "source": [
        "class Net_2(nn.Module):\n",
        "    def __init__(self):\n",
        "        super(Net_2, self).__init__()\n",
        "        self.conv1 = nn.Conv2d(1, 10, kernel_size=3)\n",
        "        self.conv2 = nn.Conv2d(10, 20, kernel_size=3)\n",
        "        self.fc1 = nn.Linear(500, 50)\n",
        "        self.fc2 = nn.Linear(50, 10)\n",
        "    def forward(self, x):\n",
        "        x = F.relu(F.max_pool2d(self.conv1(x), 2))\n",
        "        x = F.relu(F.max_pool2d(self.conv2(x), 2))\n",
        "        x = x.view(-1, 500)\n",
        "        x = F.relu(self.fc1(x))\n",
        "        x = F.dropout(x, training=self.training)\n",
        "        x = self.fc2(x)\n",
        "        return F.log_softmax(x)"
      ],
      "metadata": {
        "id": "sYWGJs10QT-J"
      },
      "execution_count": null,
      "outputs": []
    },
    {
      "cell_type": "code",
      "source": [
        "network = Net_2()\n",
        "optimizer = optim.SGD(network.parameters(), lr=learning_rate,\n",
        "                      momentum=momentum)\n",
        "summary(network,(1, 28, 28), device=\"cpu\")"
      ],
      "metadata": {
        "colab": {
          "base_uri": "https://localhost:8080/"
        },
        "id": "ZrF4WXQvRVO_",
        "outputId": "5cd7b135-82c4-4b78-fd88-1895da995b09"
      },
      "execution_count": null,
      "outputs": [
        {
          "output_type": "stream",
          "name": "stdout",
          "text": [
            "----------------------------------------------------------------\n",
            "        Layer (type)               Output Shape         Param #\n",
            "================================================================\n",
            "            Conv2d-1           [-1, 10, 26, 26]             100\n",
            "            Conv2d-2           [-1, 20, 11, 11]           1,820\n",
            "            Linear-3                   [-1, 50]          25,050\n",
            "            Linear-4                   [-1, 10]             510\n",
            "================================================================\n",
            "Total params: 27,480\n",
            "Trainable params: 27,480\n",
            "Non-trainable params: 0\n",
            "----------------------------------------------------------------\n",
            "Input size (MB): 0.00\n",
            "Forward/backward pass size (MB): 0.07\n",
            "Params size (MB): 0.10\n",
            "Estimated Total Size (MB): 0.18\n",
            "----------------------------------------------------------------\n"
          ]
        },
        {
          "output_type": "stream",
          "name": "stderr",
          "text": [
            "/usr/local/lib/python3.7/dist-packages/ipykernel_launcher.py:15: UserWarning: Implicit dimension choice for log_softmax has been deprecated. Change the call to include dim=X as an argument.\n",
            "  from ipykernel import kernelapp as app\n"
          ]
        }
      ]
    },
    {
      "cell_type": "markdown",
      "source": [
        "注意：pytorch中，padding默认=0，在池化操作中，默认stride=2，可以按照卷积计算维度的公式的计算"
      ],
      "metadata": {
        "id": "Fn0wDBOf_GK6"
      }
    },
    {
      "cell_type": "markdown",
      "source": [
        "### 构建网络模型三"
      ],
      "metadata": {
        "id": "VEZndMBgR5Jg"
      }
    },
    {
      "cell_type": "code",
      "source": [
        "class Net_3(nn.Module):\n",
        "    def __init__(self):\n",
        "        super(Net_3, self).__init__()\n",
        "        self.conv1 = nn.Conv2d(1, 10, kernel_size=3)\n",
        "        self.conv2 = nn.Conv2d(10, 20, kernel_size=3)\n",
        "        self.conv3 = nn.Conv2d(20, 10, kernel_size=3)\n",
        "        self.fc1 = nn.Linear(10*11*11, 50)\n",
        "        self.fc2 = nn.Linear(50, 10)\n",
        "    def forward(self, x):\n",
        "        x = self.conv1(x)\n",
        "        x = self.conv2(x)\n",
        "        x = self.conv3(x)\n",
        "        x = F.relu(F.max_pool2d(x, 2))\n",
        "        x = x.view(-1,10*11*11 )\n",
        "        x = F.relu(self.fc1(x))\n",
        "        x = F.dropout(x, training=self.training)\n",
        "        x = self.fc2(x)\n",
        "        return F.log_softmax(x)"
      ],
      "metadata": {
        "id": "A1ctnrBqR5Jh"
      },
      "execution_count": null,
      "outputs": []
    },
    {
      "cell_type": "code",
      "source": [
        "network = Net_3()\n",
        "optimizer = optim.SGD(network.parameters(), lr=learning_rate,\n",
        "                      momentum=momentum)\n",
        "summary(network,(1, 28, 28), device=\"cpu\")"
      ],
      "metadata": {
        "colab": {
          "base_uri": "https://localhost:8080/"
        },
        "outputId": "f995a9b4-5881-42bb-fc7c-8275c1880fa1",
        "id": "rLxilpLSR5Ji"
      },
      "execution_count": null,
      "outputs": [
        {
          "output_type": "stream",
          "name": "stdout",
          "text": [
            "----------------------------------------------------------------\n",
            "        Layer (type)               Output Shape         Param #\n",
            "================================================================\n",
            "            Conv2d-1           [-1, 10, 26, 26]             100\n",
            "            Conv2d-2           [-1, 20, 24, 24]           1,820\n",
            "            Conv2d-3           [-1, 10, 22, 22]           1,810\n",
            "            Linear-4                   [-1, 50]          60,550\n",
            "            Linear-5                   [-1, 10]             510\n",
            "================================================================\n",
            "Total params: 64,790\n",
            "Trainable params: 64,790\n",
            "Non-trainable params: 0\n",
            "----------------------------------------------------------------\n",
            "Input size (MB): 0.00\n",
            "Forward/backward pass size (MB): 0.18\n",
            "Params size (MB): 0.25\n",
            "Estimated Total Size (MB): 0.43\n",
            "----------------------------------------------------------------\n"
          ]
        },
        {
          "output_type": "stream",
          "name": "stderr",
          "text": [
            "/usr/local/lib/python3.7/dist-packages/ipykernel_launcher.py:18: UserWarning: Implicit dimension choice for log_softmax has been deprecated. Change the call to include dim=X as an argument.\n"
          ]
        }
      ]
    },
    {
      "cell_type": "markdown",
      "source": [
        "### 网络架构四"
      ],
      "metadata": {
        "id": "lCs8lqWVXk66"
      }
    },
    {
      "cell_type": "code",
      "source": [
        "class Net_4(nn.Module):\n",
        "    def __init__(self):\n",
        "        super(Net_4, self).__init__()\n",
        "        self.conv1 = nn.Conv2d(1, 10, kernel_size=3)\n",
        "        self.conv2 = nn.Conv2d(10, 20, kernel_size=3)\n",
        "        self.conv3 = nn.Conv2d(20, 10, kernel_size=3)\n",
        "        self.fc1 = nn.Linear(10*11*11, 50)\n",
        "        self.fc2 = nn.Linear(50, 10)\n",
        "    def forward(self, x):\n",
        "        x = self.conv1(x)\n",
        "        x = self.conv2(x)\n",
        "        x = self.conv3(x)\n",
        "        x = F.relu(F.max_pool2d(x, 2))\n",
        "        x = x.view(-1,10*11*11 )\n",
        "        x = F.relu(self.fc1(x))\n",
        "        x = F.dropout(x, training=self.training)\n",
        "        x = self.fc2(x)\n",
        "        return F.log_softmax(x)"
      ],
      "metadata": {
        "id": "vjKqxwzWXn-Y"
      },
      "execution_count": null,
      "outputs": []
    },
    {
      "cell_type": "code",
      "source": [
        "network = Net_4()\n",
        "optimizer = optim.AdamW(network.parameters(), lr=learning_rate)\n",
        "summary(network,(1, 28, 28), device=\"cpu\")"
      ],
      "metadata": {
        "colab": {
          "base_uri": "https://localhost:8080/"
        },
        "id": "pqa-aquyXoAx",
        "outputId": "55e7f972-e41a-400a-dda2-5071731a296d"
      },
      "execution_count": null,
      "outputs": [
        {
          "output_type": "stream",
          "name": "stdout",
          "text": [
            "----------------------------------------------------------------\n",
            "        Layer (type)               Output Shape         Param #\n",
            "================================================================\n",
            "            Conv2d-1           [-1, 10, 26, 26]             100\n",
            "            Conv2d-2           [-1, 20, 24, 24]           1,820\n",
            "            Conv2d-3           [-1, 10, 22, 22]           1,810\n",
            "            Linear-4                   [-1, 50]          60,550\n",
            "            Linear-5                   [-1, 10]             510\n",
            "================================================================\n",
            "Total params: 64,790\n",
            "Trainable params: 64,790\n",
            "Non-trainable params: 0\n",
            "----------------------------------------------------------------\n",
            "Input size (MB): 0.00\n",
            "Forward/backward pass size (MB): 0.18\n",
            "Params size (MB): 0.25\n",
            "Estimated Total Size (MB): 0.43\n",
            "----------------------------------------------------------------\n"
          ]
        },
        {
          "output_type": "stream",
          "name": "stderr",
          "text": [
            "/usr/local/lib/python3.7/dist-packages/ipykernel_launcher.py:18: UserWarning: Implicit dimension choice for log_softmax has been deprecated. Change the call to include dim=X as an argument.\n"
          ]
        }
      ]
    },
    {
      "cell_type": "code",
      "source": [
        ""
      ],
      "metadata": {
        "id": "G7Fjpb89XoDb"
      },
      "execution_count": null,
      "outputs": []
    },
    {
      "cell_type": "markdown",
      "source": [
        "注意：pytorch中，padding默认=0，在池化操作中，默认stride=2，可以按照卷积计算维度的公式的计算"
      ],
      "metadata": {
        "id": "zP4sf_RnR5Ji"
      }
    },
    {
      "cell_type": "markdown",
      "source": [
        "### 优化器"
      ],
      "metadata": {
        "id": "a6bKMojdC70z"
      }
    },
    {
      "cell_type": "code",
      "source": [
        "network = Net()\n",
        "optimizer = optim.SGD(network.parameters(), lr=learning_rate,\n",
        "                      momentum=momentum)\n"
      ],
      "metadata": {
        "id": "7uSKC7ws4Bsy"
      },
      "execution_count": null,
      "outputs": []
    },
    {
      "cell_type": "code",
      "source": [
        ""
      ],
      "metadata": {
        "id": "WphLjm1kAZbT"
      },
      "execution_count": null,
      "outputs": []
    },
    {
      "cell_type": "code",
      "source": [
        "summary(network,(1, 28, 28), device=\"cpu\")"
      ],
      "metadata": {
        "colab": {
          "base_uri": "https://localhost:8080/"
        },
        "id": "nZNiTqxbBAJR",
        "outputId": "7f3d6038-a478-4ea5-b40e-a0e41604fe53"
      },
      "execution_count": null,
      "outputs": [
        {
          "output_type": "stream",
          "name": "stdout",
          "text": [
            "----------------------------------------------------------------\n",
            "        Layer (type)               Output Shape         Param #\n",
            "================================================================\n",
            "            Conv2d-1           [-1, 10, 24, 24]             260\n",
            "            Conv2d-2             [-1, 20, 8, 8]           5,020\n",
            "         Dropout2d-3             [-1, 20, 8, 8]               0\n",
            "            Linear-4                   [-1, 50]          16,050\n",
            "            Linear-5                   [-1, 10]             510\n",
            "================================================================\n",
            "Total params: 21,840\n",
            "Trainable params: 21,840\n",
            "Non-trainable params: 0\n",
            "----------------------------------------------------------------\n",
            "Input size (MB): 0.00\n",
            "Forward/backward pass size (MB): 0.06\n",
            "Params size (MB): 0.08\n",
            "Estimated Total Size (MB): 0.15\n",
            "----------------------------------------------------------------\n"
          ]
        },
        {
          "output_type": "stream",
          "name": "stderr",
          "text": [
            "/usr/local/lib/python3.7/dist-packages/ipykernel_launcher.py:20: UserWarning: Implicit dimension choice for log_softmax has been deprecated. Change the call to include dim=X as an argument.\n"
          ]
        }
      ]
    },
    {
      "cell_type": "code",
      "source": [
        ""
      ],
      "metadata": {
        "id": "eB0Qh4RdEMFz"
      },
      "execution_count": null,
      "outputs": []
    },
    {
      "cell_type": "markdown",
      "source": [
        "### 模型训练"
      ],
      "metadata": {
        "id": "Qy2FyCxH0U1O"
      }
    },
    {
      "cell_type": "code",
      "source": [
        "train_losses = []\n",
        "train_counter = []\n",
        "test_losses = []\n",
        "test_counter = [i*len(train_loader.dataset) for i in range(n_epochs + 1)]"
      ],
      "metadata": {
        "id": "fxW7DsHN4GN_"
      },
      "execution_count": null,
      "outputs": []
    },
    {
      "cell_type": "code",
      "source": [
        "def train(epoch):\n",
        "  network.train()\n",
        "  for batch_idx, (data, target) in enumerate(train_loader):\n",
        "    optimizer.zero_grad()\n",
        "    output = network(data)\n",
        "    loss = F.nll_loss(output, target)\n",
        "    loss.backward()\n",
        "    optimizer.step()\n",
        "    if batch_idx % log_interval == 0:\n",
        "      print('Train Epoch: {} [{}/{} ({:.0f}%)]\\tLoss: {:.6f}'.format(\n",
        "        epoch, batch_idx * len(data), len(train_loader.dataset),\n",
        "        100. * batch_idx / len(train_loader), loss.item()))\n",
        "      train_losses.append(loss.item())\n",
        "      train_counter.append(\n",
        "        (batch_idx*64) + ((epoch-1)*len(train_loader.dataset)))\n",
        "      torch.save(network.state_dict(), './model.pth')\n",
        "      torch.save(optimizer.state_dict(), './optimizer.pth')\n",
        "          \n"
      ],
      "metadata": {
        "id": "t79cnVRk4b10"
      },
      "execution_count": null,
      "outputs": []
    },
    {
      "cell_type": "code",
      "source": [
        "def test():\n",
        "  network.eval()\n",
        "  test_loss = 0\n",
        "  correct = 0\n",
        "  with torch.no_grad():\n",
        "    for data, target in test_loader:\n",
        "      output = network(data)\n",
        "      test_loss += F.nll_loss(output, target, size_average=False).item()\n",
        "      pred = output.data.max(1, keepdim=True)[1]\n",
        "      correct += pred.eq(target.data.view_as(pred)).sum()\n",
        "  test_loss /= len(test_loader.dataset)\n",
        "  test_losses.append(test_loss)\n",
        "  print('\\nTest set: Avg. loss: {:.4f}, Accuracy: {}/{} ({:.3f}%)\\n'.format(\n",
        "    test_loss, correct, len(test_loader.dataset),\n",
        "    100. * correct / len(test_loader.dataset)))\n",
        "test()    "
      ],
      "metadata": {
        "colab": {
          "base_uri": "https://localhost:8080/"
        },
        "id": "BG7h-O7M4era",
        "outputId": "2f9deca3-ec44-4360-ebd3-a918846ecb51"
      },
      "execution_count": null,
      "outputs": [
        {
          "output_type": "stream",
          "name": "stderr",
          "text": [
            "/usr/local/lib/python3.7/dist-packages/ipykernel_launcher.py:20: UserWarning: Implicit dimension choice for log_softmax has been deprecated. Change the call to include dim=X as an argument.\n",
            "/usr/local/lib/python3.7/dist-packages/torch/nn/_reduction.py:42: UserWarning: size_average and reduce args will be deprecated, please use reduction='sum' instead.\n",
            "  warnings.warn(warning.format(ret))\n"
          ]
        },
        {
          "output_type": "stream",
          "name": "stdout",
          "text": [
            "\n",
            "Test set: Avg. loss: 0.0524, Accuracy: 9838/10000 (98.380%)\n",
            "\n"
          ]
        }
      ]
    },
    {
      "cell_type": "code",
      "source": [
        "for epoch in range(1, n_epochs+1):\n",
        "  train(epoch)\n",
        "  test()"
      ],
      "metadata": {
        "colab": {
          "base_uri": "https://localhost:8080/"
        },
        "id": "LoX9kQ6-4jG5",
        "outputId": "48621957-3b9e-4cd7-9611-465e59b8d5cf"
      },
      "execution_count": null,
      "outputs": [
        {
          "output_type": "stream",
          "name": "stderr",
          "text": [
            "/usr/local/lib/python3.7/dist-packages/ipykernel_launcher.py:20: UserWarning: Implicit dimension choice for log_softmax has been deprecated. Change the call to include dim=X as an argument.\n"
          ]
        },
        {
          "output_type": "stream",
          "name": "stdout",
          "text": [
            "Train Epoch: 1 [0/60000 (0%)]\tLoss: 0.372890\n",
            "Train Epoch: 1 [6400/60000 (11%)]\tLoss: 0.453831\n",
            "Train Epoch: 1 [12800/60000 (21%)]\tLoss: 0.390715\n",
            "Train Epoch: 1 [19200/60000 (32%)]\tLoss: 0.478280\n",
            "Train Epoch: 1 [25600/60000 (43%)]\tLoss: 0.391882\n",
            "Train Epoch: 1 [32000/60000 (53%)]\tLoss: 0.316403\n",
            "Train Epoch: 1 [38400/60000 (64%)]\tLoss: 0.305887\n",
            "Train Epoch: 1 [44800/60000 (75%)]\tLoss: 0.622306\n",
            "Train Epoch: 1 [51200/60000 (85%)]\tLoss: 0.335490\n",
            "Train Epoch: 1 [57600/60000 (96%)]\tLoss: 0.293966\n"
          ]
        },
        {
          "output_type": "stream",
          "name": "stderr",
          "text": [
            "/usr/local/lib/python3.7/dist-packages/torch/nn/_reduction.py:42: UserWarning: size_average and reduce args will be deprecated, please use reduction='sum' instead.\n",
            "  warnings.warn(warning.format(ret))\n"
          ]
        },
        {
          "output_type": "stream",
          "name": "stdout",
          "text": [
            "\n",
            "Test set: Avg. loss: 0.1255, Accuracy: 9615/10000 (96%)\n",
            "\n",
            "Train Epoch: 2 [0/60000 (0%)]\tLoss: 0.445382\n",
            "Train Epoch: 2 [6400/60000 (11%)]\tLoss: 0.415876\n",
            "Train Epoch: 2 [12800/60000 (21%)]\tLoss: 0.291864\n",
            "Train Epoch: 2 [19200/60000 (32%)]\tLoss: 0.429226\n",
            "Train Epoch: 2 [25600/60000 (43%)]\tLoss: 0.301635\n",
            "Train Epoch: 2 [32000/60000 (53%)]\tLoss: 0.191860\n",
            "Train Epoch: 2 [38400/60000 (64%)]\tLoss: 0.465169\n",
            "Train Epoch: 2 [44800/60000 (75%)]\tLoss: 0.453712\n",
            "Train Epoch: 2 [51200/60000 (85%)]\tLoss: 0.370130\n",
            "Train Epoch: 2 [57600/60000 (96%)]\tLoss: 0.367954\n",
            "\n",
            "Test set: Avg. loss: 0.1009, Accuracy: 9685/10000 (97%)\n",
            "\n",
            "Train Epoch: 3 [0/60000 (0%)]\tLoss: 0.197139\n",
            "Train Epoch: 3 [6400/60000 (11%)]\tLoss: 0.504906\n",
            "Train Epoch: 3 [12800/60000 (21%)]\tLoss: 0.260623\n",
            "Train Epoch: 3 [19200/60000 (32%)]\tLoss: 0.265555\n",
            "Train Epoch: 3 [25600/60000 (43%)]\tLoss: 0.298382\n",
            "Train Epoch: 3 [32000/60000 (53%)]\tLoss: 0.076979\n",
            "Train Epoch: 3 [38400/60000 (64%)]\tLoss: 0.329844\n",
            "Train Epoch: 3 [44800/60000 (75%)]\tLoss: 0.136359\n",
            "Train Epoch: 3 [51200/60000 (85%)]\tLoss: 0.267848\n",
            "Train Epoch: 3 [57600/60000 (96%)]\tLoss: 0.176953\n",
            "\n",
            "Test set: Avg. loss: 0.0845, Accuracy: 9724/10000 (97%)\n",
            "\n",
            "Train Epoch: 4 [0/60000 (0%)]\tLoss: 0.139629\n",
            "Train Epoch: 4 [6400/60000 (11%)]\tLoss: 0.277801\n",
            "Train Epoch: 4 [12800/60000 (21%)]\tLoss: 0.269320\n",
            "Train Epoch: 4 [19200/60000 (32%)]\tLoss: 0.240432\n",
            "Train Epoch: 4 [25600/60000 (43%)]\tLoss: 0.191054\n",
            "Train Epoch: 4 [32000/60000 (53%)]\tLoss: 0.294591\n",
            "Train Epoch: 4 [38400/60000 (64%)]\tLoss: 0.114249\n",
            "Train Epoch: 4 [44800/60000 (75%)]\tLoss: 0.260296\n",
            "Train Epoch: 4 [51200/60000 (85%)]\tLoss: 0.199330\n",
            "Train Epoch: 4 [57600/60000 (96%)]\tLoss: 0.244603\n",
            "\n",
            "Test set: Avg. loss: 0.0725, Accuracy: 9769/10000 (98%)\n",
            "\n",
            "Train Epoch: 5 [0/60000 (0%)]\tLoss: 0.192967\n",
            "Train Epoch: 5 [6400/60000 (11%)]\tLoss: 0.110482\n",
            "Train Epoch: 5 [12800/60000 (21%)]\tLoss: 0.211146\n",
            "Train Epoch: 5 [19200/60000 (32%)]\tLoss: 0.197106\n",
            "Train Epoch: 5 [25600/60000 (43%)]\tLoss: 0.170694\n",
            "Train Epoch: 5 [32000/60000 (53%)]\tLoss: 0.209124\n",
            "Train Epoch: 5 [38400/60000 (64%)]\tLoss: 0.170476\n",
            "Train Epoch: 5 [44800/60000 (75%)]\tLoss: 0.150661\n",
            "Train Epoch: 5 [51200/60000 (85%)]\tLoss: 0.162532\n",
            "Train Epoch: 5 [57600/60000 (96%)]\tLoss: 0.333644\n",
            "\n",
            "Test set: Avg. loss: 0.0672, Accuracy: 9787/10000 (98%)\n",
            "\n",
            "Train Epoch: 6 [0/60000 (0%)]\tLoss: 0.323427\n",
            "Train Epoch: 6 [6400/60000 (11%)]\tLoss: 0.157447\n",
            "Train Epoch: 6 [12800/60000 (21%)]\tLoss: 0.210433\n",
            "Train Epoch: 6 [19200/60000 (32%)]\tLoss: 0.035236\n",
            "Train Epoch: 6 [25600/60000 (43%)]\tLoss: 0.153746\n",
            "Train Epoch: 6 [32000/60000 (53%)]\tLoss: 0.253485\n",
            "Train Epoch: 6 [38400/60000 (64%)]\tLoss: 0.324261\n",
            "Train Epoch: 6 [44800/60000 (75%)]\tLoss: 0.256577\n",
            "Train Epoch: 6 [51200/60000 (85%)]\tLoss: 0.136575\n",
            "Train Epoch: 6 [57600/60000 (96%)]\tLoss: 0.337542\n",
            "\n",
            "Test set: Avg. loss: 0.0628, Accuracy: 9803/10000 (98%)\n",
            "\n",
            "Train Epoch: 7 [0/60000 (0%)]\tLoss: 0.164511\n",
            "Train Epoch: 7 [6400/60000 (11%)]\tLoss: 0.155173\n",
            "Train Epoch: 7 [12800/60000 (21%)]\tLoss: 0.319423\n",
            "Train Epoch: 7 [19200/60000 (32%)]\tLoss: 0.300629\n",
            "Train Epoch: 7 [25600/60000 (43%)]\tLoss: 0.189298\n",
            "Train Epoch: 7 [32000/60000 (53%)]\tLoss: 0.149753\n",
            "Train Epoch: 7 [38400/60000 (64%)]\tLoss: 0.039929\n",
            "Train Epoch: 7 [44800/60000 (75%)]\tLoss: 0.254069\n",
            "Train Epoch: 7 [51200/60000 (85%)]\tLoss: 0.138865\n",
            "Train Epoch: 7 [57600/60000 (96%)]\tLoss: 0.094422\n",
            "\n",
            "Test set: Avg. loss: 0.0587, Accuracy: 9817/10000 (98%)\n",
            "\n",
            "Train Epoch: 8 [0/60000 (0%)]\tLoss: 0.138618\n",
            "Train Epoch: 8 [6400/60000 (11%)]\tLoss: 0.136637\n",
            "Train Epoch: 8 [12800/60000 (21%)]\tLoss: 0.200663\n",
            "Train Epoch: 8 [19200/60000 (32%)]\tLoss: 0.259717\n",
            "Train Epoch: 8 [25600/60000 (43%)]\tLoss: 0.095351\n",
            "Train Epoch: 8 [32000/60000 (53%)]\tLoss: 0.309516\n",
            "Train Epoch: 8 [38400/60000 (64%)]\tLoss: 0.421927\n",
            "Train Epoch: 8 [44800/60000 (75%)]\tLoss: 0.094380\n",
            "Train Epoch: 8 [51200/60000 (85%)]\tLoss: 0.176280\n",
            "Train Epoch: 8 [57600/60000 (96%)]\tLoss: 0.117546\n",
            "\n",
            "Test set: Avg. loss: 0.0524, Accuracy: 9838/10000 (98%)\n",
            "\n"
          ]
        }
      ]
    },
    {
      "cell_type": "code",
      "source": [
        "import matplotlib.pyplot as plt\n",
        "fig = plt.figure()\n",
        "plt.plot(train_counter, train_losses, color='blue')\n",
        "plt.scatter(test_counter, test_losses, color='red')\n",
        "plt.legend(['Train Loss', 'Test Loss'], loc='upper right')\n",
        "plt.xlabel('number of training examples seen')\n",
        "plt.ylabel('negative log likelihood loss')\n",
        "plt.show()"
      ],
      "metadata": {
        "colab": {
          "base_uri": "https://localhost:8080/",
          "height": 279
        },
        "id": "ml7nHEZX4k4w",
        "outputId": "c6770234-e975-46e6-f014-2f94c46561b4"
      },
      "execution_count": null,
      "outputs": [
        {
          "output_type": "display_data",
          "data": {
            "text/plain": [
              "<Figure size 432x288 with 1 Axes>"
            ],
            "image/png": "[encoded data removed]"
          },
          "metadata": {
            "needs_background": "light"
          }
        }
      ]
    },
    {
      "cell_type": "markdown",
      "source": [
        "### 模型训练_2"
      ],
      "metadata": {
        "id": "W7rPqZMJRgIx"
      }
    },
    {
      "cell_type": "code",
      "source": [
        ""
      ],
      "metadata": {
        "id": "jGvB0CHuRmgl"
      },
      "execution_count": null,
      "outputs": []
    },
    {
      "cell_type": "code",
      "source": [
        "train_losses = []\n",
        "train_counter = []\n",
        "test_losses = []\n",
        "test_counter = [i*len(train_loader.dataset) for i in range(n_epochs + 1)]"
      ],
      "metadata": {
        "id": "5D_TOFa4Rm-9"
      },
      "execution_count": null,
      "outputs": []
    },
    {
      "cell_type": "code",
      "source": [
        "def train(epoch):\n",
        "  network.train()\n",
        "  for batch_idx, (data, target) in enumerate(train_loader):\n",
        "    optimizer.zero_grad()\n",
        "    output = network(data)\n",
        "    loss = F.nll_loss(output, target)\n",
        "    loss.backward()\n",
        "    optimizer.step()\n",
        "    if batch_idx % log_interval == 0:\n",
        "      print('Train Epoch: {} [{}/{} ({:.0f}%)]\\tLoss: {:.6f}'.format(\n",
        "        epoch, batch_idx * len(data), len(train_loader.dataset),\n",
        "        100. * batch_idx / len(train_loader), loss.item()))\n",
        "      train_losses.append(loss.item())\n",
        "      train_counter.append(\n",
        "        (batch_idx*64) + ((epoch-1)*len(train_loader.dataset)))\n",
        "      torch.save(network.state_dict(), './model.pth')\n",
        "      torch.save(optimizer.state_dict(), './optimizer.pth')\n",
        "          \n"
      ],
      "metadata": {
        "id": "08uOECmARm--"
      },
      "execution_count": null,
      "outputs": []
    },
    {
      "cell_type": "code",
      "source": [
        "def test():\n",
        "  network.eval()\n",
        "  test_loss = 0\n",
        "  correct = 0\n",
        "  with torch.no_grad():\n",
        "    for data, target in test_loader:\n",
        "      output = network(data)\n",
        "      test_loss += F.nll_loss(output, target, size_average=False).item()\n",
        "      pred = output.data.max(1, keepdim=True)[1]\n",
        "      correct += pred.eq(target.data.view_as(pred)).sum()\n",
        "  test_loss /= len(test_loader.dataset)\n",
        "  test_losses.append(test_loss)\n",
        "  print('\\nTest set: Avg. loss: {:.4f}, Accuracy: {}/{} ({:.3f}%)\\n'.format(\n",
        "    test_loss, correct, len(test_loader.dataset),\n",
        "    100. * correct / len(test_loader.dataset)))\n"
      ],
      "metadata": {
        "id": "9TNoJrPHRm--"
      },
      "execution_count": null,
      "outputs": []
    },
    {
      "cell_type": "code",
      "source": [
        "for epoch in range(1, n_epochs+1):\n",
        "  train(epoch)\n",
        "  test()"
      ],
      "metadata": {
        "colab": {
          "base_uri": "https://localhost:8080/"
        },
        "outputId": "3b4998e8-297d-410f-bd27-6e9bde70c63d",
        "id": "jbepv9jURm-_"
      },
      "execution_count": null,
      "outputs": [
        {
          "output_type": "stream",
          "name": "stderr",
          "text": [
            "/usr/local/lib/python3.7/dist-packages/ipykernel_launcher.py:15: UserWarning: Implicit dimension choice for log_softmax has been deprecated. Change the call to include dim=X as an argument.\n",
            "  from ipykernel import kernelapp as app\n"
          ]
        },
        {
          "output_type": "stream",
          "name": "stdout",
          "text": [
            "Train Epoch: 1 [0/60000 (0%)]\tLoss: 2.277658\n",
            "Train Epoch: 1 [6400/60000 (11%)]\tLoss: 1.485101\n",
            "Train Epoch: 1 [12800/60000 (21%)]\tLoss: 0.815760\n",
            "Train Epoch: 1 [19200/60000 (32%)]\tLoss: 0.824190\n",
            "Train Epoch: 1 [25600/60000 (43%)]\tLoss: 0.706446\n",
            "Train Epoch: 1 [32000/60000 (53%)]\tLoss: 0.540653\n",
            "Train Epoch: 1 [38400/60000 (64%)]\tLoss: 0.572810\n",
            "Train Epoch: 1 [44800/60000 (75%)]\tLoss: 0.359455\n",
            "Train Epoch: 1 [51200/60000 (85%)]\tLoss: 0.671678\n",
            "Train Epoch: 1 [57600/60000 (96%)]\tLoss: 0.380221\n"
          ]
        },
        {
          "output_type": "stream",
          "name": "stderr",
          "text": [
            "/usr/local/lib/python3.7/dist-packages/torch/nn/_reduction.py:42: UserWarning: size_average and reduce args will be deprecated, please use reduction='sum' instead.\n",
            "  warnings.warn(warning.format(ret))\n"
          ]
        },
        {
          "output_type": "stream",
          "name": "stdout",
          "text": [
            "\n",
            "Test set: Avg. loss: 0.1860, Accuracy: 9469/10000 (94.690%)\n",
            "\n",
            "Train Epoch: 2 [0/60000 (0%)]\tLoss: 0.288084\n",
            "Train Epoch: 2 [6400/60000 (11%)]\tLoss: 0.337717\n",
            "Train Epoch: 2 [12800/60000 (21%)]\tLoss: 0.341246\n",
            "Train Epoch: 2 [19200/60000 (32%)]\tLoss: 0.324009\n",
            "Train Epoch: 2 [25600/60000 (43%)]\tLoss: 0.373131\n",
            "Train Epoch: 2 [32000/60000 (53%)]\tLoss: 0.168811\n",
            "Train Epoch: 2 [38400/60000 (64%)]\tLoss: 0.248331\n",
            "Train Epoch: 2 [44800/60000 (75%)]\tLoss: 0.209213\n",
            "Train Epoch: 2 [51200/60000 (85%)]\tLoss: 0.261321\n",
            "Train Epoch: 2 [57600/60000 (96%)]\tLoss: 0.296789\n",
            "\n",
            "Test set: Avg. loss: 0.1090, Accuracy: 9653/10000 (96.530%)\n",
            "\n",
            "Train Epoch: 3 [0/60000 (0%)]\tLoss: 0.267066\n",
            "Train Epoch: 3 [6400/60000 (11%)]\tLoss: 0.146888\n",
            "Train Epoch: 3 [12800/60000 (21%)]\tLoss: 0.133936\n",
            "Train Epoch: 3 [19200/60000 (32%)]\tLoss: 0.235841\n",
            "Train Epoch: 3 [25600/60000 (43%)]\tLoss: 0.291745\n",
            "Train Epoch: 3 [32000/60000 (53%)]\tLoss: 0.148492\n",
            "Train Epoch: 3 [38400/60000 (64%)]\tLoss: 0.226648\n",
            "Train Epoch: 3 [44800/60000 (75%)]\tLoss: 0.124584\n",
            "Train Epoch: 3 [51200/60000 (85%)]\tLoss: 0.304364\n",
            "Train Epoch: 3 [57600/60000 (96%)]\tLoss: 0.274141\n",
            "\n",
            "Test set: Avg. loss: 0.0948, Accuracy: 9667/10000 (96.670%)\n",
            "\n",
            "Train Epoch: 4 [0/60000 (0%)]\tLoss: 0.369871\n",
            "Train Epoch: 4 [6400/60000 (11%)]\tLoss: 0.234295\n",
            "Train Epoch: 4 [12800/60000 (21%)]\tLoss: 0.132845\n",
            "Train Epoch: 4 [19200/60000 (32%)]\tLoss: 0.128264\n",
            "Train Epoch: 4 [25600/60000 (43%)]\tLoss: 0.099793\n",
            "Train Epoch: 4 [32000/60000 (53%)]\tLoss: 0.139273\n",
            "Train Epoch: 4 [38400/60000 (64%)]\tLoss: 0.128331\n",
            "Train Epoch: 4 [44800/60000 (75%)]\tLoss: 0.231576\n",
            "Train Epoch: 4 [51200/60000 (85%)]\tLoss: 0.138559\n",
            "Train Epoch: 4 [57600/60000 (96%)]\tLoss: 0.170448\n",
            "\n",
            "Test set: Avg. loss: 0.0718, Accuracy: 9770/10000 (97.700%)\n",
            "\n",
            "Train Epoch: 5 [0/60000 (0%)]\tLoss: 0.109975\n",
            "Train Epoch: 5 [6400/60000 (11%)]\tLoss: 0.122146\n",
            "Train Epoch: 5 [12800/60000 (21%)]\tLoss: 0.058448\n",
            "Train Epoch: 5 [19200/60000 (32%)]\tLoss: 0.184965\n",
            "Train Epoch: 5 [25600/60000 (43%)]\tLoss: 0.113583\n",
            "Train Epoch: 5 [32000/60000 (53%)]\tLoss: 0.189661\n",
            "Train Epoch: 5 [38400/60000 (64%)]\tLoss: 0.309281\n",
            "Train Epoch: 5 [44800/60000 (75%)]\tLoss: 0.255237\n",
            "Train Epoch: 5 [51200/60000 (85%)]\tLoss: 0.236069\n",
            "Train Epoch: 5 [57600/60000 (96%)]\tLoss: 0.089244\n",
            "\n",
            "Test set: Avg. loss: 0.0679, Accuracy: 9778/10000 (97.780%)\n",
            "\n",
            "Train Epoch: 6 [0/60000 (0%)]\tLoss: 0.149306\n",
            "Train Epoch: 6 [6400/60000 (11%)]\tLoss: 0.161395\n",
            "Train Epoch: 6 [12800/60000 (21%)]\tLoss: 0.121360\n",
            "Train Epoch: 6 [19200/60000 (32%)]\tLoss: 0.192195\n",
            "Train Epoch: 6 [25600/60000 (43%)]\tLoss: 0.095262\n",
            "Train Epoch: 6 [32000/60000 (53%)]\tLoss: 0.354711\n",
            "Train Epoch: 6 [38400/60000 (64%)]\tLoss: 0.267208\n",
            "Train Epoch: 6 [44800/60000 (75%)]\tLoss: 0.177865\n",
            "Train Epoch: 6 [51200/60000 (85%)]\tLoss: 0.128664\n",
            "Train Epoch: 6 [57600/60000 (96%)]\tLoss: 0.076757\n",
            "\n",
            "Test set: Avg. loss: 0.0596, Accuracy: 9816/10000 (98.160%)\n",
            "\n",
            "Train Epoch: 7 [0/60000 (0%)]\tLoss: 0.174985\n",
            "Train Epoch: 7 [6400/60000 (11%)]\tLoss: 0.060797\n",
            "Train Epoch: 7 [12800/60000 (21%)]\tLoss: 0.186507\n",
            "Train Epoch: 7 [19200/60000 (32%)]\tLoss: 0.096741\n",
            "Train Epoch: 7 [25600/60000 (43%)]\tLoss: 0.328462\n",
            "Train Epoch: 7 [32000/60000 (53%)]\tLoss: 0.160386\n",
            "Train Epoch: 7 [38400/60000 (64%)]\tLoss: 0.358711\n",
            "Train Epoch: 7 [44800/60000 (75%)]\tLoss: 0.142872\n",
            "Train Epoch: 7 [51200/60000 (85%)]\tLoss: 0.116028\n",
            "Train Epoch: 7 [57600/60000 (96%)]\tLoss: 0.079445\n",
            "\n",
            "Test set: Avg. loss: 0.0570, Accuracy: 9832/10000 (98.320%)\n",
            "\n",
            "Train Epoch: 8 [0/60000 (0%)]\tLoss: 0.211355\n",
            "Train Epoch: 8 [6400/60000 (11%)]\tLoss: 0.077346\n",
            "Train Epoch: 8 [12800/60000 (21%)]\tLoss: 0.226667\n",
            "Train Epoch: 8 [19200/60000 (32%)]\tLoss: 0.091581\n",
            "Train Epoch: 8 [25600/60000 (43%)]\tLoss: 0.111033\n",
            "Train Epoch: 8 [32000/60000 (53%)]\tLoss: 0.242125\n",
            "Train Epoch: 8 [38400/60000 (64%)]\tLoss: 0.050229\n",
            "Train Epoch: 8 [44800/60000 (75%)]\tLoss: 0.106829\n",
            "Train Epoch: 8 [51200/60000 (85%)]\tLoss: 0.244481\n",
            "Train Epoch: 8 [57600/60000 (96%)]\tLoss: 0.063411\n",
            "\n",
            "Test set: Avg. loss: 0.0551, Accuracy: 9816/10000 (98.160%)\n",
            "\n"
          ]
        }
      ]
    },
    {
      "cell_type": "code",
      "source": [
        "import matplotlib.pyplot as plt\n",
        "fig = plt.figure()\n",
        "plt.plot(train_counter, train_losses, color='blue')\n",
        "plt.scatter(test_counter[:len(test_losses)], test_losses, color='red')\n",
        "plt.legend(['Train Loss', 'Test Loss'], loc='upper right')\n",
        "plt.xlabel('number of training examples seen')\n",
        "plt.ylabel('negative log likelihood loss')\n",
        "plt.show()"
      ],
      "metadata": {
        "colab": {
          "base_uri": "https://localhost:8080/",
          "height": 279
        },
        "outputId": "ddeb6c21-31cc-4807-d8ed-9969fd595fb3",
        "id": "QHGzlPQ-Rm-_"
      },
      "execution_count": null,
      "outputs": [
        {
          "output_type": "display_data",
          "data": {
            "text/plain": [
              "<Figure size 432x288 with 1 Axes>"
            ],
            "image/png": "[encoded data removed]"
          },
          "metadata": {
            "needs_background": "light"
          }
        }
      ]
    },
    {
      "cell_type": "markdown",
      "source": [
        "### 模型三训练"
      ],
      "metadata": {
        "id": "yTd3yS82TEfN"
      }
    },
    {
      "cell_type": "code",
      "source": [
        ""
      ],
      "metadata": {
        "id": "tIE9RJbqTmeJ"
      },
      "execution_count": null,
      "outputs": []
    },
    {
      "cell_type": "code",
      "source": [
        "train_losses = []\n",
        "train_counter = []\n",
        "test_losses = []\n",
        "test_counter = [i*len(train_loader.dataset) for i in range(n_epochs + 1)]"
      ],
      "metadata": {
        "id": "PrOOYFYUTmeJ"
      },
      "execution_count": null,
      "outputs": []
    },
    {
      "cell_type": "code",
      "source": [
        "def train(epoch):\n",
        "  network.train()\n",
        "  for batch_idx, (data, target) in enumerate(train_loader):\n",
        "    optimizer.zero_grad()\n",
        "    output = network(data)\n",
        "    loss = F.nll_loss(output, target)\n",
        "    loss.backward()\n",
        "    optimizer.step()\n",
        "    if batch_idx % log_interval == 0:\n",
        "      print('Train Epoch: {} [{}/{} ({:.0f}%)]\\tLoss: {:.6f}'.format(\n",
        "        epoch, batch_idx * len(data), len(train_loader.dataset),\n",
        "        100. * batch_idx / len(train_loader), loss.item()))\n",
        "      train_losses.append(loss.item())\n",
        "      train_counter.append(\n",
        "        (batch_idx*64) + ((epoch-1)*len(train_loader.dataset)))\n",
        "      torch.save(network.state_dict(), './model.pth')\n",
        "      torch.save(optimizer.state_dict(), './optimizer.pth')\n",
        "          \n"
      ],
      "metadata": {
        "id": "UCrDfH9FTmeK"
      },
      "execution_count": null,
      "outputs": []
    },
    {
      "cell_type": "code",
      "source": [
        "def test():\n",
        "  network.eval()\n",
        "  test_loss = 0\n",
        "  correct = 0\n",
        "  with torch.no_grad():\n",
        "    for data, target in test_loader:\n",
        "      output = network(data)\n",
        "      test_loss += F.nll_loss(output, target, size_average=False).item()\n",
        "      pred = output.data.max(1, keepdim=True)[1]\n",
        "      correct += pred.eq(target.data.view_as(pred)).sum()\n",
        "  test_loss /= len(test_loader.dataset)\n",
        "  test_losses.append(test_loss)\n",
        "  print('\\nTest set: Avg. loss: {:.4f}, Accuracy: {}/{} ({:.3f}%)\\n'.format(\n",
        "    test_loss, correct, len(test_loader.dataset),\n",
        "    100. * correct / len(test_loader.dataset)))\n"
      ],
      "metadata": {
        "id": "9ud3fWUpTmeK"
      },
      "execution_count": null,
      "outputs": []
    },
    {
      "cell_type": "code",
      "source": [
        "for epoch in range(1, n_epochs+1):\n",
        "  train(epoch)\n",
        "  test()"
      ],
      "metadata": {
        "colab": {
          "base_uri": "https://localhost:8080/"
        },
        "outputId": "ed05658a-a7fc-48d1-e087-6df48ecee6e0",
        "id": "tcZFjX5ETmeL"
      },
      "execution_count": null,
      "outputs": [
        {
          "output_type": "stream",
          "name": "stderr",
          "text": [
            "/usr/local/lib/python3.7/dist-packages/ipykernel_launcher.py:18: UserWarning: Implicit dimension choice for log_softmax has been deprecated. Change the call to include dim=X as an argument.\n"
          ]
        },
        {
          "output_type": "stream",
          "name": "stdout",
          "text": [
            "Train Epoch: 1 [0/60000 (0%)]\tLoss: 2.290818\n",
            "Train Epoch: 1 [6400/60000 (11%)]\tLoss: 1.041038\n",
            "Train Epoch: 1 [12800/60000 (21%)]\tLoss: 0.735073\n",
            "Train Epoch: 1 [19200/60000 (32%)]\tLoss: 0.989259\n",
            "Train Epoch: 1 [25600/60000 (43%)]\tLoss: 0.384372\n",
            "Train Epoch: 1 [32000/60000 (53%)]\tLoss: 0.653352\n",
            "Train Epoch: 1 [38400/60000 (64%)]\tLoss: 0.508916\n",
            "Train Epoch: 1 [44800/60000 (75%)]\tLoss: 0.418054\n",
            "Train Epoch: 1 [51200/60000 (85%)]\tLoss: 0.407703\n",
            "Train Epoch: 1 [57600/60000 (96%)]\tLoss: 0.362948\n"
          ]
        },
        {
          "output_type": "stream",
          "name": "stderr",
          "text": [
            "/usr/local/lib/python3.7/dist-packages/torch/nn/_reduction.py:42: UserWarning: size_average and reduce args will be deprecated, please use reduction='sum' instead.\n",
            "  warnings.warn(warning.format(ret))\n"
          ]
        },
        {
          "output_type": "stream",
          "name": "stdout",
          "text": [
            "\n",
            "Test set: Avg. loss: 0.2211, Accuracy: 9348/10000 (93.480%)\n",
            "\n",
            "Train Epoch: 2 [0/60000 (0%)]\tLoss: 0.598083\n",
            "Train Epoch: 2 [6400/60000 (11%)]\tLoss: 0.340245\n",
            "Train Epoch: 2 [12800/60000 (21%)]\tLoss: 0.392647\n",
            "Train Epoch: 2 [19200/60000 (32%)]\tLoss: 0.541058\n",
            "Train Epoch: 2 [25600/60000 (43%)]\tLoss: 0.238450\n",
            "Train Epoch: 2 [32000/60000 (53%)]\tLoss: 0.378628\n",
            "Train Epoch: 2 [38400/60000 (64%)]\tLoss: 0.183998\n",
            "Train Epoch: 2 [44800/60000 (75%)]\tLoss: 0.295874\n",
            "Train Epoch: 2 [51200/60000 (85%)]\tLoss: 0.222066\n",
            "Train Epoch: 2 [57600/60000 (96%)]\tLoss: 0.454896\n",
            "\n",
            "Test set: Avg. loss: 0.1086, Accuracy: 9661/10000 (96.610%)\n",
            "\n",
            "Train Epoch: 3 [0/60000 (0%)]\tLoss: 0.342378\n",
            "Train Epoch: 3 [6400/60000 (11%)]\tLoss: 0.320267\n",
            "Train Epoch: 3 [12800/60000 (21%)]\tLoss: 0.225643\n",
            "Train Epoch: 3 [19200/60000 (32%)]\tLoss: 0.239718\n",
            "Train Epoch: 3 [25600/60000 (43%)]\tLoss: 0.312017\n",
            "Train Epoch: 3 [32000/60000 (53%)]\tLoss: 0.150720\n",
            "Train Epoch: 3 [38400/60000 (64%)]\tLoss: 0.366980\n",
            "Train Epoch: 3 [44800/60000 (75%)]\tLoss: 0.416299\n",
            "Train Epoch: 3 [51200/60000 (85%)]\tLoss: 0.085517\n",
            "Train Epoch: 3 [57600/60000 (96%)]\tLoss: 0.205489\n",
            "\n",
            "Test set: Avg. loss: 0.0855, Accuracy: 9718/10000 (97.180%)\n",
            "\n",
            "Train Epoch: 4 [0/60000 (0%)]\tLoss: 0.198629\n",
            "Train Epoch: 4 [6400/60000 (11%)]\tLoss: 0.098132\n",
            "Train Epoch: 4 [12800/60000 (21%)]\tLoss: 0.145574\n",
            "Train Epoch: 4 [19200/60000 (32%)]\tLoss: 0.230994\n",
            "Train Epoch: 4 [25600/60000 (43%)]\tLoss: 0.112262\n",
            "Train Epoch: 4 [32000/60000 (53%)]\tLoss: 0.139283\n",
            "Train Epoch: 4 [38400/60000 (64%)]\tLoss: 0.294900\n",
            "Train Epoch: 4 [44800/60000 (75%)]\tLoss: 0.243496\n",
            "Train Epoch: 4 [51200/60000 (85%)]\tLoss: 0.092415\n",
            "Train Epoch: 4 [57600/60000 (96%)]\tLoss: 0.063992\n",
            "\n",
            "Test set: Avg. loss: 0.0662, Accuracy: 9782/10000 (97.820%)\n",
            "\n",
            "Train Epoch: 5 [0/60000 (0%)]\tLoss: 0.092790\n",
            "Train Epoch: 5 [6400/60000 (11%)]\tLoss: 0.170794\n",
            "Train Epoch: 5 [12800/60000 (21%)]\tLoss: 0.109851\n",
            "Train Epoch: 5 [19200/60000 (32%)]\tLoss: 0.103423\n",
            "Train Epoch: 5 [25600/60000 (43%)]\tLoss: 0.177607\n",
            "Train Epoch: 5 [32000/60000 (53%)]\tLoss: 0.124274\n",
            "Train Epoch: 5 [38400/60000 (64%)]\tLoss: 0.052791\n",
            "Train Epoch: 5 [44800/60000 (75%)]\tLoss: 0.157610\n",
            "Train Epoch: 5 [51200/60000 (85%)]\tLoss: 0.434108\n",
            "Train Epoch: 5 [57600/60000 (96%)]\tLoss: 0.106094\n",
            "\n",
            "Test set: Avg. loss: 0.0610, Accuracy: 9804/10000 (98.040%)\n",
            "\n",
            "Train Epoch: 6 [0/60000 (0%)]\tLoss: 0.076880\n",
            "Train Epoch: 6 [6400/60000 (11%)]\tLoss: 0.120542\n",
            "Train Epoch: 6 [12800/60000 (21%)]\tLoss: 0.334830\n",
            "Train Epoch: 6 [19200/60000 (32%)]\tLoss: 0.044122\n",
            "Train Epoch: 6 [25600/60000 (43%)]\tLoss: 0.071986\n",
            "Train Epoch: 6 [32000/60000 (53%)]\tLoss: 0.175702\n",
            "Train Epoch: 6 [38400/60000 (64%)]\tLoss: 0.130957\n",
            "Train Epoch: 6 [44800/60000 (75%)]\tLoss: 0.125568\n",
            "Train Epoch: 6 [51200/60000 (85%)]\tLoss: 0.123652\n",
            "Train Epoch: 6 [57600/60000 (96%)]\tLoss: 0.368429\n",
            "\n",
            "Test set: Avg. loss: 0.0538, Accuracy: 9822/10000 (98.220%)\n",
            "\n",
            "Train Epoch: 7 [0/60000 (0%)]\tLoss: 0.045374\n",
            "Train Epoch: 7 [6400/60000 (11%)]\tLoss: 0.084625\n",
            "Train Epoch: 7 [12800/60000 (21%)]\tLoss: 0.047548\n",
            "Train Epoch: 7 [19200/60000 (32%)]\tLoss: 0.084761\n",
            "Train Epoch: 7 [25600/60000 (43%)]\tLoss: 0.079162\n",
            "Train Epoch: 7 [32000/60000 (53%)]\tLoss: 0.076482\n",
            "Train Epoch: 7 [38400/60000 (64%)]\tLoss: 0.025363\n",
            "Train Epoch: 7 [44800/60000 (75%)]\tLoss: 0.204214\n",
            "Train Epoch: 7 [51200/60000 (85%)]\tLoss: 0.049250\n",
            "Train Epoch: 7 [57600/60000 (96%)]\tLoss: 0.198857\n",
            "\n",
            "Test set: Avg. loss: 0.0522, Accuracy: 9830/10000 (98.300%)\n",
            "\n",
            "Train Epoch: 8 [0/60000 (0%)]\tLoss: 0.096557\n",
            "Train Epoch: 8 [6400/60000 (11%)]\tLoss: 0.047190\n",
            "Train Epoch: 8 [12800/60000 (21%)]\tLoss: 0.117301\n",
            "Train Epoch: 8 [19200/60000 (32%)]\tLoss: 0.176217\n",
            "Train Epoch: 8 [25600/60000 (43%)]\tLoss: 0.075997\n",
            "Train Epoch: 8 [32000/60000 (53%)]\tLoss: 0.051587\n",
            "Train Epoch: 8 [38400/60000 (64%)]\tLoss: 0.057251\n",
            "Train Epoch: 8 [44800/60000 (75%)]\tLoss: 0.113959\n",
            "Train Epoch: 8 [51200/60000 (85%)]\tLoss: 0.025615\n",
            "Train Epoch: 8 [57600/60000 (96%)]\tLoss: 0.045874\n",
            "\n",
            "Test set: Avg. loss: 0.0438, Accuracy: 9855/10000 (98.550%)\n",
            "\n"
          ]
        }
      ]
    },
    {
      "cell_type": "code",
      "source": [
        "import matplotlib.pyplot as plt\n",
        "fig = plt.figure()\n",
        "plt.plot(train_counter, train_losses, color='blue')\n",
        "plt.scatter(test_counter[:len(test_losses)], test_losses, color='red')\n",
        "plt.legend(['Train Loss', 'Test Loss'], loc='upper right')\n",
        "plt.xlabel('number of training examples seen')\n",
        "plt.ylabel('negative log likelihood loss')\n",
        "plt.show()"
      ],
      "metadata": {
        "colab": {
          "base_uri": "https://localhost:8080/",
          "height": 279
        },
        "outputId": "81d92ede-7210-450f-ead7-8a7a74cc94fd",
        "id": "qWPdoKz4TmeL"
      },
      "execution_count": null,
      "outputs": [
        {
          "output_type": "display_data",
          "data": {
            "text/plain": [
              "<Figure size 432x288 with 1 Axes>"
            ],
            "image/png": "[encoded data removed]"
          },
          "metadata": {
            "needs_background": "light"
          }
        }
      ]
    },
    {
      "cell_type": "markdown",
      "source": [
        "### 模型训练_4"
      ],
      "metadata": {
        "id": "h0yIxN9CX2aQ"
      }
    },
    {
      "cell_type": "code",
      "source": [
        ""
      ],
      "metadata": {
        "id": "9MM4t8UCX6TY"
      },
      "execution_count": null,
      "outputs": []
    },
    {
      "cell_type": "code",
      "source": [
        ""
      ],
      "metadata": {
        "id": "goLm7Al8X6iH"
      },
      "execution_count": null,
      "outputs": []
    },
    {
      "cell_type": "code",
      "source": [
        "train_losses = []\n",
        "train_counter = []\n",
        "test_losses = []\n",
        "test_counter = [i*len(train_loader.dataset) for i in range(n_epochs + 1)]"
      ],
      "metadata": {
        "id": "z-1oQNPlX6iI"
      },
      "execution_count": null,
      "outputs": []
    },
    {
      "cell_type": "code",
      "source": [
        "def train(epoch):\n",
        "  network.train()\n",
        "\n",
        "  for batch_idx, (data, target) in enumerate(train_loader):\n",
        "    optimizer.zero_grad()\n",
        "    output = network(data)\n",
        "    loss = F.nll_loss(output, target)\n",
        "    loss.backward()\n",
        "    optimizer.step()\n",
        "    if batch_idx % log_interval == 0:\n",
        "      print('Train Epoch: {} [{}/{} ({:.0f}%)]\\tLoss: {:.6f}'.format(\n",
        "        epoch, batch_idx * len(data), len(train_loader.dataset),\n",
        "        100. * batch_idx / len(train_loader), loss.item()))\n",
        "      train_losses.append(loss.item())\n",
        "      train_counter.append(\n",
        "        (batch_idx*64) + ((epoch-1)*len(train_loader.dataset)))\n",
        "      torch.save(network.state_dict(), './model.pth')\n",
        "      torch.save(optimizer.state_dict(), './optimizer.pth')\n",
        "          \n"
      ],
      "metadata": {
        "id": "1qKeEV25X6iI"
      },
      "execution_count": null,
      "outputs": []
    },
    {
      "cell_type": "code",
      "source": [
        "def test():\n",
        "  network.eval()\n",
        "  test_loss = 0\n",
        "  correct = 0\n",
        "  with torch.no_grad():\n",
        "    for data, target in test_loader:\n",
        "      output = network(data)\n",
        "      test_loss += F.nll_loss(output, target, size_average=False).item()\n",
        "      pred = output.data.max(1, keepdim=True)[1]\n",
        "      correct += pred.eq(target.data.view_as(pred)).sum()\n",
        "  test_loss /= len(test_loader.dataset)\n",
        "  test_losses.append(test_loss)\n",
        "  print('\\nTest set: Avg. loss: {:.4f}, Accuracy: {}/{} ({:.3f}%)\\n'.format(\n",
        "    test_loss, correct, len(test_loader.dataset),\n",
        "    100. * correct / len(test_loader.dataset)))\n"
      ],
      "metadata": {
        "id": "_7xea8uuX6iI"
      },
      "execution_count": null,
      "outputs": []
    },
    {
      "cell_type": "code",
      "source": [
        "for epoch in range(1, n_epochs+1):\n",
        "  train(epoch)\n",
        "  test()"
      ],
      "metadata": {
        "colab": {
          "base_uri": "https://localhost:8080/"
        },
        "outputId": "ed185e95-bca0-4c4f-8726-ea9d14c5b854",
        "id": "jlnyHOMLX6iJ"
      },
      "execution_count": null,
      "outputs": [
        {
          "output_type": "stream",
          "name": "stderr",
          "text": [
            "/usr/local/lib/python3.7/dist-packages/ipykernel_launcher.py:18: UserWarning: Implicit dimension choice for log_softmax has been deprecated. Change the call to include dim=X as an argument.\n"
          ]
        },
        {
          "output_type": "stream",
          "name": "stdout",
          "text": [
            "Train Epoch: 1 [0/60000 (0%)]\tLoss: 2.321292\n",
            "Train Epoch: 1 [6400/60000 (11%)]\tLoss: 0.554800\n",
            "Train Epoch: 1 [12800/60000 (21%)]\tLoss: 0.442387\n",
            "Train Epoch: 1 [19200/60000 (32%)]\tLoss: 0.486227\n",
            "Train Epoch: 1 [25600/60000 (43%)]\tLoss: 0.458296\n",
            "Train Epoch: 1 [32000/60000 (53%)]\tLoss: 0.376747\n",
            "Train Epoch: 1 [38400/60000 (64%)]\tLoss: 0.390654\n",
            "Train Epoch: 1 [44800/60000 (75%)]\tLoss: 0.377707\n",
            "Train Epoch: 1 [51200/60000 (85%)]\tLoss: 0.287812\n",
            "Train Epoch: 1 [57600/60000 (96%)]\tLoss: 0.381444\n"
          ]
        },
        {
          "output_type": "stream",
          "name": "stderr",
          "text": [
            "/usr/local/lib/python3.7/dist-packages/torch/nn/_reduction.py:42: UserWarning: size_average and reduce args will be deprecated, please use reduction='sum' instead.\n",
            "  warnings.warn(warning.format(ret))\n"
          ]
        },
        {
          "output_type": "stream",
          "name": "stdout",
          "text": [
            "\n",
            "Test set: Avg. loss: 0.4488, Accuracy: 8819/10000 (88.190%)\n",
            "\n",
            "Train Epoch: 2 [0/60000 (0%)]\tLoss: 1.598882\n",
            "Train Epoch: 2 [6400/60000 (11%)]\tLoss: 2.305676\n",
            "Train Epoch: 2 [12800/60000 (21%)]\tLoss: 2.302264\n",
            "Train Epoch: 2 [19200/60000 (32%)]\tLoss: 2.297354\n",
            "Train Epoch: 2 [25600/60000 (43%)]\tLoss: 2.323437\n",
            "Train Epoch: 2 [32000/60000 (53%)]\tLoss: 2.306930\n",
            "Train Epoch: 2 [38400/60000 (64%)]\tLoss: 2.305367\n",
            "Train Epoch: 2 [44800/60000 (75%)]\tLoss: 2.302008\n",
            "Train Epoch: 2 [51200/60000 (85%)]\tLoss: 2.300599\n",
            "Train Epoch: 2 [57600/60000 (96%)]\tLoss: 2.297402\n",
            "\n",
            "Test set: Avg. loss: 2.3020, Accuracy: 1135/10000 (11.350%)\n",
            "\n",
            "Train Epoch: 3 [0/60000 (0%)]\tLoss: 2.297760\n",
            "Train Epoch: 3 [6400/60000 (11%)]\tLoss: 2.318817\n",
            "Train Epoch: 3 [12800/60000 (21%)]\tLoss: 2.297052\n",
            "Train Epoch: 3 [19200/60000 (32%)]\tLoss: 2.298049\n",
            "Train Epoch: 3 [25600/60000 (43%)]\tLoss: 2.301482\n",
            "Train Epoch: 3 [32000/60000 (53%)]\tLoss: 2.295382\n",
            "Train Epoch: 3 [38400/60000 (64%)]\tLoss: 2.304441\n",
            "Train Epoch: 3 [44800/60000 (75%)]\tLoss: 2.285308\n",
            "Train Epoch: 3 [51200/60000 (85%)]\tLoss: 2.300825\n",
            "Train Epoch: 3 [57600/60000 (96%)]\tLoss: 2.307478\n",
            "\n",
            "Test set: Avg. loss: 2.3017, Accuracy: 1028/10000 (10.280%)\n",
            "\n",
            "Train Epoch: 4 [0/60000 (0%)]\tLoss: 2.302327\n",
            "Train Epoch: 4 [6400/60000 (11%)]\tLoss: 2.299881\n",
            "Train Epoch: 4 [12800/60000 (21%)]\tLoss: 2.294377\n",
            "Train Epoch: 4 [19200/60000 (32%)]\tLoss: 2.300115\n",
            "Train Epoch: 4 [25600/60000 (43%)]\tLoss: 2.297985\n",
            "Train Epoch: 4 [32000/60000 (53%)]\tLoss: 2.309397\n",
            "Train Epoch: 4 [38400/60000 (64%)]\tLoss: 2.297795\n",
            "Train Epoch: 4 [44800/60000 (75%)]\tLoss: 2.314977\n",
            "Train Epoch: 4 [51200/60000 (85%)]\tLoss: 2.300681\n",
            "Train Epoch: 4 [57600/60000 (96%)]\tLoss: 2.298784\n",
            "\n",
            "Test set: Avg. loss: 2.3016, Accuracy: 1135/10000 (11.350%)\n",
            "\n",
            "Train Epoch: 5 [0/60000 (0%)]\tLoss: 2.299115\n",
            "Train Epoch: 5 [6400/60000 (11%)]\tLoss: 2.288004\n",
            "Train Epoch: 5 [12800/60000 (21%)]\tLoss: 2.307170\n",
            "Train Epoch: 5 [19200/60000 (32%)]\tLoss: 2.304338\n",
            "Train Epoch: 5 [25600/60000 (43%)]\tLoss: 2.310916\n",
            "Train Epoch: 5 [32000/60000 (53%)]\tLoss: 2.293570\n",
            "Train Epoch: 5 [38400/60000 (64%)]\tLoss: 2.301875\n",
            "Train Epoch: 5 [44800/60000 (75%)]\tLoss: 2.302370\n",
            "Train Epoch: 5 [51200/60000 (85%)]\tLoss: 2.302827\n",
            "Train Epoch: 5 [57600/60000 (96%)]\tLoss: 2.292424\n",
            "\n",
            "Test set: Avg. loss: 2.3017, Accuracy: 1135/10000 (11.350%)\n",
            "\n",
            "Train Epoch: 6 [0/60000 (0%)]\tLoss: 2.301441\n",
            "Train Epoch: 6 [6400/60000 (11%)]\tLoss: 2.292239\n",
            "Train Epoch: 6 [12800/60000 (21%)]\tLoss: 2.305745\n",
            "Train Epoch: 6 [19200/60000 (32%)]\tLoss: 2.296834\n",
            "Train Epoch: 6 [25600/60000 (43%)]\tLoss: 2.291475\n",
            "Train Epoch: 6 [32000/60000 (53%)]\tLoss: 2.318248\n",
            "Train Epoch: 6 [38400/60000 (64%)]\tLoss: 2.302157\n",
            "Train Epoch: 6 [44800/60000 (75%)]\tLoss: 2.307697\n",
            "Train Epoch: 6 [51200/60000 (85%)]\tLoss: 2.306356\n",
            "Train Epoch: 6 [57600/60000 (96%)]\tLoss: 2.298259\n",
            "\n",
            "Test set: Avg. loss: 2.3015, Accuracy: 1135/10000 (11.350%)\n",
            "\n",
            "Train Epoch: 7 [0/60000 (0%)]\tLoss: 2.294743\n",
            "Train Epoch: 7 [6400/60000 (11%)]\tLoss: 2.312926\n",
            "Train Epoch: 7 [12800/60000 (21%)]\tLoss: 2.297574\n",
            "Train Epoch: 7 [19200/60000 (32%)]\tLoss: 2.309581\n",
            "Train Epoch: 7 [25600/60000 (43%)]\tLoss: 2.304654\n",
            "Train Epoch: 7 [32000/60000 (53%)]\tLoss: 2.302541\n",
            "Train Epoch: 7 [38400/60000 (64%)]\tLoss: 2.307109\n",
            "Train Epoch: 7 [44800/60000 (75%)]\tLoss: 2.314311\n",
            "Train Epoch: 7 [51200/60000 (85%)]\tLoss: 2.297155\n",
            "Train Epoch: 7 [57600/60000 (96%)]\tLoss: 2.295837\n",
            "\n",
            "Test set: Avg. loss: 2.3015, Accuracy: 1135/10000 (11.350%)\n",
            "\n",
            "Train Epoch: 8 [0/60000 (0%)]\tLoss: 2.329574\n",
            "Train Epoch: 8 [6400/60000 (11%)]\tLoss: 2.315652\n",
            "Train Epoch: 8 [12800/60000 (21%)]\tLoss: 2.301955\n",
            "Train Epoch: 8 [19200/60000 (32%)]\tLoss: 2.295546\n",
            "Train Epoch: 8 [25600/60000 (43%)]\tLoss: 2.316395\n",
            "Train Epoch: 8 [32000/60000 (53%)]\tLoss: 2.302143\n",
            "Train Epoch: 8 [38400/60000 (64%)]\tLoss: 2.289121\n",
            "Train Epoch: 8 [44800/60000 (75%)]\tLoss: 2.298444\n",
            "Train Epoch: 8 [51200/60000 (85%)]\tLoss: 2.299053\n",
            "Train Epoch: 8 [57600/60000 (96%)]\tLoss: 2.310186\n",
            "\n",
            "Test set: Avg. loss: 2.3023, Accuracy: 1135/10000 (11.350%)\n",
            "\n"
          ]
        }
      ]
    },
    {
      "cell_type": "code",
      "source": [
        "import matplotlib.pyplot as plt\n",
        "fig = plt.figure()\n",
        "plt.plot(train_counter, train_losses, color='blue')\n",
        "plt.scatter(test_counter[:len(test_losses)], test_losses, color='red')\n",
        "plt.legend(['Train Loss', 'Test Loss'], loc='upper right')\n",
        "plt.xlabel('number of training examples seen')\n",
        "plt.ylabel('negative log likelihood loss')\n",
        "plt.show()"
      ],
      "metadata": {
        "colab": {
          "base_uri": "https://localhost:8080/",
          "height": 279
        },
        "outputId": "81d92ede-7210-450f-ead7-8a7a74cc94fd",
        "id": "-5rePrWhX6iK"
      },
      "execution_count": null,
      "outputs": [
        {
          "output_type": "display_data",
          "data": {
            "text/plain": [
              "<Figure size 432x288 with 1 Axes>"
            ],
            "image/png": "[encoded data removed]"
          },
          "metadata": {
            "needs_background": "light"
          }
        }
      ]
    }
  ]
}